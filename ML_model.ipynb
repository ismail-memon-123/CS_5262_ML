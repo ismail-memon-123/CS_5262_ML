{
  "nbformat": 4,
  "nbformat_minor": 0,
  "metadata": {
    "colab": {
      "provenance": [],
      "authorship_tag": "ABX9TyNcQ6wSJpKOW//Jt5q2b/ft",
      "include_colab_link": true
    },
    "kernelspec": {
      "name": "python3",
      "display_name": "Python 3"
    },
    "language_info": {
      "name": "python"
    }
  },
  "cells": [
    {
      "cell_type": "markdown",
      "metadata": {
        "id": "view-in-github",
        "colab_type": "text"
      },
      "source": [
        "<a href=\"https://colab.research.google.com/github/ismail-memon-123/CS_5262_ML/blob/main/ML_model.ipynb\" target=\"_parent\"><img src=\"https://colab.research.google.com/assets/colab-badge.svg\" alt=\"Open In Colab\"/></a>"
      ]
    },
    {
      "cell_type": "markdown",
      "source": [],
      "metadata": {
        "id": "2pCGQeq_FPqN"
      }
    },
    {
      "cell_type": "markdown",
      "source": [
        "#Vanderbilt CS 5262 Foundations of ML Project"
      ],
      "metadata": {
        "id": "hPQ1zAhBFTd5"
      }
    },
    {
      "cell_type": "markdown",
      "source": [
        "###Background"
      ],
      "metadata": {
        "id": "jdQWMF71FUoP"
      }
    },
    {
      "cell_type": "markdown",
      "source": [
        "This is a ML projet using the dataset available at this link: https://archive.ics.uci.edu/dataset/222/bank+marketing\n",
        "\n",
        "This is a dataset provided by UCI about marketing calls conducted by a bank in Portugual. Using its telemarketing team and often calling the same customers more than once, the bank aimed to get its audience to subscribe a term deposit."
      ],
      "metadata": {
        "id": "0h2Vhx7mFXqx"
      }
    },
    {
      "cell_type": "markdown",
      "source": [
        "###Project Description"
      ],
      "metadata": {
        "id": "uw02FdYYFfA8"
      }
    },
    {
      "cell_type": "markdown",
      "source": [
        "This is an ML project conducted in Python. Using common data science packages such as numpy, etc. this data set will first be anaylzed and then it will be used as a machine learning data set as well as a test set (a portion wil be used as training data and a portion as test data). The idea is that we should be able to predict, based on the characteristics of the telemarketing (the day of week called, etc.) and the characterists of the user (age, income level, etc.) whether they will make a deposit or not."
      ],
      "metadata": {
        "id": "JPtXBgK3FihR"
      }
    },
    {
      "cell_type": "markdown",
      "source": [
        "###Performance Metric"
      ],
      "metadata": {
        "id": "o9gGzlxqFjcJ"
      }
    },
    {
      "cell_type": "markdown",
      "source": [
        "The performance of this ML model will be based on how accurately the model can predict whether or not the individual will make a deposit. This performance will be evaluated based on the test data set that the model has not seen before to evaluate its performance based on new data."
      ],
      "metadata": {
        "id": "jKQe13XPFmsK"
      }
    }
  ]
}