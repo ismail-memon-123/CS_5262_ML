{
  "nbformat": 4,
  "nbformat_minor": 0,
  "metadata": {
    "colab": {
      "provenance": [],
      "authorship_tag": "ABX9TyPzyKccKrM2MrqpJDoM/uQz",
      "include_colab_link": true
    },
    "kernelspec": {
      "name": "python3",
      "display_name": "Python 3"
    },
    "language_info": {
      "name": "python"
    }
  },
  "cells": [
    {
      "cell_type": "markdown",
      "metadata": {
        "id": "view-in-github",
        "colab_type": "text"
      },
      "source": [
        "<a href=\"https://colab.research.google.com/github/ismail-memon-123/CS_5262_ML/blob/main/Neural_Network.ipynb\" target=\"_parent\"><img src=\"https://colab.research.google.com/assets/colab-badge.svg\" alt=\"Open In Colab\"/></a>"
      ]
    },
    {
      "cell_type": "markdown",
      "source": [
        "#Neural Networks"
      ],
      "metadata": {
        "id": "fxUKlrjCgRp5"
      }
    },
    {
      "cell_type": "code",
      "source": [
        "#imports\n",
        "import pandas as pd\n",
        "import numpy as np\n",
        "import matplotlib.pyplot as plt"
      ],
      "metadata": {
        "id": "bafMJwRZgS7n"
      },
      "execution_count": 1,
      "outputs": []
    },
    {
      "cell_type": "markdown",
      "source": [
        "##Task 1: Linear Regression with One Variable"
      ],
      "metadata": {
        "id": "lH-2axBDgsXh"
      }
    },
    {
      "cell_type": "code",
      "source": [
        "#Load data from txt file\n",
        "food_data = np.array([\n",
        "[6.1101,17.592],\n",
        "[5.5277,9.1302],\n",
        "[8.5186,13.662],\n",
        "[7.0032,11.854],\n",
        "[5.8598,6.8233],\n",
        "[8.3829,11.886],\n",
        "[7.4764,4.3483],\n",
        "[8.5781,12],\n",
        "[6.4862,6.5987],\n",
        "[5.0546,3.8166],\n",
        "[5.7107,3.2522],\n",
        "[14.164,15.505],\n",
        "[5.734,3.1551],\n",
        "[8.4084,7.2258],\n",
        "[5.6407,0.71618],\n",
        "[5.3794,3.5129],\n",
        "[6.3654,5.3048],\n",
        "[5.1301,0.56077],\n",
        "[6.4296,3.6518],\n",
        "[7.0708,5.3893],\n",
        "[6.1891,3.1386],\n",
        "[20.27,21.767],\n",
        "[5.4901,4.263],\n",
        "[6.3261,5.1875],\n",
        "[5.5649,3.0825],\n",
        "[18.945,22.638],\n",
        "[12.828,13.501],\n",
        "[10.957,7.0467],\n",
        "[13.176,14.692],\n",
        "[22.203,24.147],\n",
        "[5.2524,-1.22],\n",
        "[6.5894,5.9966],\n",
        "[9.2482,12.134],\n",
        "[5.8918,1.8495],\n",
        "[8.2111,6.5426],\n",
        "[7.9334,4.5623],\n",
        "[8.0959,4.1164],\n",
        "[5.6063,3.3928],\n",
        "[12.836,10.117],\n",
        "[6.3534,5.4974],\n",
        "[5.4069,0.55657],\n",
        "[6.8825,3.9115],\n",
        "[11.708,5.3854],\n",
        "[5.7737,2.4406],\n",
        "[7.8247,6.7318],\n",
        "[7.0931,1.0463],\n",
        "[5.0702,5.1337],\n",
        "[5.8014,1.844],\n",
        "[11.7,8.0043],\n",
        "[5.5416,1.0179],\n",
        "[7.5402,6.7504],\n",
        "[5.3077,1.8396],\n",
        "[7.4239,4.2885],\n",
        "[7.6031,4.9981],\n",
        "[6.3328,1.4233],\n",
        "[6.3589,-1.4211],\n",
        "[6.2742,2.4756],\n",
        "[5.6397,4.6042],\n",
        "[9.3102,3.9624],\n",
        "[9.4536,5.4141],\n",
        "[8.8254,5.1694],\n",
        "[5.1793,-0.74279],\n",
        "[21.279,17.929],\n",
        "[14.908,12.054],\n",
        "[18.959,17.054],\n",
        "[7.2182,4.8852],\n",
        "[8.2951,5.7442],\n",
        "[10.236,7.7754],\n",
        "[5.4994,1.0173],\n",
        "[20.341,20.992],\n",
        "[10.136,6.6799],\n",
        "[7.3345,4.0259],\n",
        "[6.0062,1.2784],\n",
        "[7.2259,3.3411],\n",
        "[5.0269,-2.6807],\n",
        "[6.5479,0.29678],\n",
        "[7.5386,3.8845],\n",
        "[5.0365,5.7014],\n",
        "[10.274,6.7526],\n",
        "[5.1077,2.0576],\n",
        "[5.7292,0.47953],\n",
        "[5.1884,0.20421],\n",
        "[6.3557,0.67861],\n",
        "[9.7687,7.5435],\n",
        "[6.5159,5.3436],\n",
        "[8.5172,4.2415],\n",
        "[9.1802,6.7981],\n",
        "[6.002,0.92695],\n",
        "[5.5204,0.152],\n",
        "[5.0594,2.8214],\n",
        "[5.7077,1.8451],\n",
        "[7.6366,4.2959],\n",
        "[5.8707,7.2029],\n",
        "[5.3054,1.9869],\n",
        "[8.2934,0.14454],\n",
        "[13.394,9.0551],\n",
        "[5.4369,0.61705],\n",
        "])"
      ],
      "metadata": {
        "id": "CsAXWUdjgwqG"
      },
      "execution_count": 2,
      "outputs": []
    },
    {
      "cell_type": "code",
      "source": [
        "# Plot the data food_data\n",
        "plt.scatter(food_data[:,0], food_data[:,1])\n",
        "ax = plt.gca()\n",
        "ax.set_ylim([-20, 30])\n",
        "plt.show()"
      ],
      "metadata": {
        "colab": {
          "base_uri": "https://localhost:8080/",
          "height": 435
        },
        "id": "J-peNLmUkMBB",
        "outputId": "c6940294-1797-4f48-aaea-032897a9f709"
      },
      "execution_count": 3,
      "outputs": [
        {
          "output_type": "display_data",
          "data": {
            "text/plain": [
              "<Figure size 640x480 with 1 Axes>"
            ],
            "image/png": "[encoded data removed]"
          },
          "metadata": {}
        }
      ]
    },
    {
      "cell_type": "code",
      "source": [
        "def calculate_single_forward(thetas, train_ex):\n",
        "    '''\n",
        "        thetas: theta0, theta1, ..., thetaj\n",
        "        train_ex: (x, y)\n",
        "\n",
        "        returns: gradients based on a single training example\n",
        "    '''\n",
        "\n",
        "    # parse model parameters\n",
        "    theta_0 = thetas[0]\n",
        "    theta_1 = thetas[1]\n",
        "\n",
        "    # parse data inputs\n",
        "    x0 = 1\n",
        "    x1 = train_ex[0]\n",
        "    y = train_ex[1]\n",
        "\n",
        "    # do one forward pass with a single training example\n",
        "    # to calculate error and gradient\n",
        "    y_hat = theta_0 + theta_1 * x1\n",
        "    error = y_hat - y\n",
        "\n",
        "    # for each theta, we need the gradient for an update\n",
        "    gradients = np.array([error * x0, error * x1])\n",
        "\n",
        "    # Question: what would you do differently for GD or mini-batch GD?\n",
        "\n",
        "    return gradients"
      ],
      "metadata": {
        "id": "U_tYCsI9iISd"
      },
      "execution_count": 4,
      "outputs": []
    },
    {
      "cell_type": "code",
      "source": [
        "def gradient_descent(training_data, thetas, alpha=5e-3):\n",
        "    '''\n",
        "    training_data: training dataset\n",
        "    thetas: theta0, theta1, ..., thetaj\n",
        "    alpha: learning rate, default to 0.0005\n",
        "\n",
        "    returns:\n",
        "            - thetas: the updated thetas\n",
        "            - total_error: total error (note, not loss) from this iteration\n",
        "    '''\n",
        "\n",
        "    total_error = 0\n",
        "    overall_gradients = np.zeros(2)\n",
        "\n",
        "    # compute the summation of gradients across all training examples\n",
        "    for ex in training_data:\n",
        "        gradients = calculate_single_forward(thetas, ex)\n",
        "        # gradients[0] is the error term (gradients[0] = error * x0 = error * 1)\n",
        "        total_error += gradients[0]\n",
        "        overall_gradients = overall_gradients + gradients\n",
        "\n",
        "    # update thetas\n",
        "    theta_0, theta_1 = thetas\n",
        "    thetas[0] = theta_0 - alpha * overall_gradients[0]\n",
        "    thetas[1] = theta_1 - alpha * overall_gradients[1]\n",
        "    print(thetas[0])\n",
        "    print(thetas[1])\n",
        "\n",
        "    return thetas, total_error"
      ],
      "metadata": {
        "id": "EXZfh167iIWi"
      },
      "execution_count": 5,
      "outputs": []
    },
    {
      "cell_type": "code",
      "source": [
        "def normalize_data(training_data):\n",
        "    ''' Normalize the training data by scaling features to have zero mean and unit variance '''\n",
        "    X = np.array([ex[0] for ex in training_data])  # extract x values\n",
        "    mean_X = np.mean(X)\n",
        "    std_X = np.std(X)\n",
        "    normalized_X = (X - mean_X) / std_X\n",
        "    return [(normalized_X[i], training_data[i][1]) for i in range(len(training_data))]"
      ],
      "metadata": {
        "id": "RZRSEdfCiJ3D"
      },
      "execution_count": 6,
      "outputs": []
    },
    {
      "cell_type": "code",
      "source": [
        "# set initial parameters\n",
        "thetas = [0, 0.01]\n",
        "old_thetas = thetas.copy()\n",
        "alpha = 5e-3\n",
        "\n",
        "# prepare training\n",
        "total_epochs = 75\n",
        "error_traj = [0] * total_epochs\n",
        "#had to normalize data because otherwise it was bouncing too much (the thetas and would go from -infin to infin probably because of the negative values in the data)\n",
        "training_data_normalized = normalize_data(food_data)\n",
        "\n",
        "# perform training\n",
        "for epoch in range(total_epochs):\n",
        "    thetas, epoch_error = gradient_descent(training_data_normalized, thetas, alpha)\n",
        "    print(thetas)\n",
        "    # store a history of errors\n",
        "    error_traj[epoch] = epoch_error\n"
      ],
      "metadata": {
        "colab": {
          "base_uri": "https://localhost:8080/",
          "height": 0
        },
        "id": "-wcbVvAkiIYO",
        "outputId": "a9dc4e62-dc5f-49a9-ef75-5abcf8d9967b"
      },
      "execution_count": 7,
      "outputs": [
        {
          "output_type": "stream",
          "name": "stdout",
          "text": [
            "2.8319805000000002\n",
            "2.2327749496809934\n",
            "[np.float64(2.8319805000000002), np.float64(2.2327749496809934)]\n",
            "4.2904504575\n",
            "3.3775040487667054\n",
            "[np.float64(4.2904504575), np.float64(3.3775040487667054)]\n",
            "5.041562485612499\n",
            "3.9670395347958465\n",
            "[np.float64(5.041562485612499), np.float64(3.9670395347958465)]\n",
            "5.428385180090436\n",
            "4.270650310100854\n",
            "[np.float64(5.428385180090436), np.float64(4.270650310100854)]\n",
            "5.627598867746574\n",
            "4.427009859382933\n",
            "[np.float64(5.627598867746574), np.float64(4.427009859382933)]\n",
            "5.730193916889485\n",
            "4.507535027263203\n",
            "[np.float64(5.730193916889485), np.float64(4.507535027263203)]\n",
            "5.7830303671980845\n",
            "4.5490054887215425\n",
            "[np.float64(5.7830303671980845), np.float64(4.5490054887215425)]\n",
            "5.810241139107013\n",
            "4.570362776372588\n",
            "[np.float64(5.810241139107013), np.float64(4.570362776372588)]\n",
            "5.824254686640111\n",
            "4.581361779512876\n",
            "[np.float64(5.824254686640111), np.float64(4.581361779512876)]\n",
            "5.831471663619657\n",
            "4.587026266130124\n",
            "[np.float64(5.831471663619657), np.float64(4.587026266130124)]\n",
            "5.835188406764122\n",
            "4.589943476738007\n",
            "[np.float64(5.835188406764122), np.float64(4.589943476738007)]\n",
            "5.837102529483523\n",
            "4.591445840201067\n",
            "[np.float64(5.837102529483523), np.float64(4.591445840201067)]\n",
            "5.838088302684013\n",
            "4.592219557384543\n",
            "[np.float64(5.838088302684013), np.float64(4.592219557384543)]\n",
            "5.838595975882265\n",
            "4.592618021734033\n",
            "[np.float64(5.838595975882265), np.float64(4.592618021734033)]\n",
            "5.838857427579366\n",
            "4.5928232308740204\n",
            "[np.float64(5.838857427579366), np.float64(4.5928232308740204)]\n",
            "5.838992075203373\n",
            "4.5929289135811135\n",
            "[np.float64(5.838992075203373), np.float64(4.5929289135811135)]\n",
            "5.839061418729736\n",
            "4.592983340175267\n",
            "[np.float64(5.839061418729736), np.float64(4.592983340175267)]\n",
            "5.839097130645813\n",
            "4.593011369871256\n",
            "[np.float64(5.839097130645813), np.float64(4.593011369871256)]\n",
            "5.839115522282593\n",
            "4.5930258051646895\n",
            "[np.float64(5.839115522282593), np.float64(4.5930258051646895)]\n",
            "5.839124993975535\n",
            "4.593033239340808\n",
            "[np.float64(5.839124993975535), np.float64(4.593033239340808)]\n",
            "5.839129871897399\n",
            "4.593037067941509\n",
            "[np.float64(5.839129871897399), np.float64(4.593037067941509)]\n",
            "5.8391323840271605\n",
            "4.59303903967087\n",
            "[np.float64(5.8391323840271605), np.float64(4.59303903967087)]\n",
            "5.839133677773987\n",
            "4.593040055111492\n",
            "[np.float64(5.839133677773987), np.float64(4.593040055111492)]\n",
            "5.839134344053602\n",
            "4.593040578063412\n",
            "[np.float64(5.839134344053602), np.float64(4.593040578063412)]\n",
            "5.839134687187604\n",
            "4.59304084738365\n",
            "[np.float64(5.839134687187604), np.float64(4.59304084738365)]\n",
            "5.839134863901616\n",
            "4.593040986083572\n",
            "[np.float64(5.839134863901616), np.float64(4.593040986083572)]\n",
            "5.839134954909332\n",
            "4.593041057514033\n",
            "[np.float64(5.839134954909332), np.float64(4.593041057514033)]\n",
            "5.839135001778305\n",
            "4.5930410943007205\n",
            "[np.float64(5.839135001778305), np.float64(4.5930410943007205)]\n",
            "5.839135025915827\n",
            "4.593041113245864\n",
            "[np.float64(5.839135025915827), np.float64(4.593041113245864)]\n",
            "5.83913503834665\n",
            "4.593041123002613\n",
            "[np.float64(5.83913503834665), np.float64(4.593041123002613)]\n",
            "5.839135044748524\n",
            "4.593041128027338\n",
            "[np.float64(5.839135044748524), np.float64(4.593041128027338)]\n",
            "5.839135048045489\n",
            "4.593041130615072\n",
            "[np.float64(5.839135048045489), np.float64(4.593041130615072)]\n",
            "5.839135049743426\n",
            "4.593041131947755\n",
            "[np.float64(5.839135049743426), np.float64(4.593041131947755)]\n",
            "5.839135050617863\n",
            "4.593041132634087\n",
            "[np.float64(5.839135050617863), np.float64(4.593041132634087)]\n",
            "5.839135051068199\n",
            "4.593041132987548\n",
            "[np.float64(5.839135051068199), np.float64(4.593041132987548)]\n",
            "5.839135051300122\n",
            "4.59304113316958\n",
            "[np.float64(5.839135051300122), np.float64(4.59304113316958)]\n",
            "5.839135051419563\n",
            "4.593041133263327\n",
            "[np.float64(5.839135051419563), np.float64(4.593041133263327)]\n",
            "5.839135051481074\n",
            "4.593041133311607\n",
            "[np.float64(5.839135051481074), np.float64(4.593041133311607)]\n",
            "5.839135051512752\n",
            "4.59304113333647\n",
            "[np.float64(5.839135051512752), np.float64(4.59304113333647)]\n",
            "5.839135051529067\n",
            "4.593041133349275\n",
            "[np.float64(5.839135051529067), np.float64(4.593041133349275)]\n",
            "5.839135051537468\n",
            "4.59304113335587\n",
            "[np.float64(5.839135051537468), np.float64(4.59304113335587)]\n",
            "5.8391350515417955\n",
            "4.593041133359266\n",
            "[np.float64(5.8391350515417955), np.float64(4.593041133359266)]\n",
            "5.839135051544024\n",
            "4.593041133361015\n",
            "[np.float64(5.839135051544024), np.float64(4.593041133361015)]\n",
            "5.839135051545171\n",
            "4.593041133361916\n",
            "[np.float64(5.839135051545171), np.float64(4.593041133361916)]\n",
            "5.839135051545762\n",
            "4.593041133362379\n",
            "[np.float64(5.839135051545762), np.float64(4.593041133362379)]\n",
            "5.839135051546067\n",
            "4.593041133362618\n",
            "[np.float64(5.839135051546067), np.float64(4.593041133362618)]\n",
            "5.839135051546224\n",
            "4.593041133362742\n",
            "[np.float64(5.839135051546224), np.float64(4.593041133362742)]\n",
            "5.839135051546305\n",
            "4.593041133362805\n",
            "[np.float64(5.839135051546305), np.float64(4.593041133362805)]\n",
            "5.8391350515463465\n",
            "4.593041133362838\n",
            "[np.float64(5.8391350515463465), np.float64(4.593041133362838)]\n",
            "5.839135051546368\n",
            "4.5930411333628545\n",
            "[np.float64(5.839135051546368), np.float64(4.5930411333628545)]\n",
            "5.8391350515463785\n",
            "4.593041133362863\n",
            "[np.float64(5.8391350515463785), np.float64(4.593041133362863)]\n",
            "5.839135051546385\n",
            "4.593041133362868\n",
            "[np.float64(5.839135051546385), np.float64(4.593041133362868)]\n",
            "5.839135051546387\n",
            "4.59304113336287\n",
            "[np.float64(5.839135051546387), np.float64(4.59304113336287)]\n",
            "5.839135051546389\n",
            "4.5930411333628705\n",
            "[np.float64(5.839135051546389), np.float64(4.5930411333628705)]\n",
            "5.83913505154639\n",
            "4.593041133362871\n",
            "[np.float64(5.83913505154639), np.float64(4.593041133362871)]\n",
            "5.83913505154639\n",
            "4.593041133362872\n",
            "[np.float64(5.83913505154639), np.float64(4.593041133362872)]\n",
            "5.83913505154639\n",
            "4.593041133362872\n",
            "[np.float64(5.83913505154639), np.float64(4.593041133362872)]\n",
            "5.83913505154639\n",
            "4.593041133362872\n",
            "[np.float64(5.83913505154639), np.float64(4.593041133362872)]\n",
            "5.83913505154639\n",
            "4.593041133362872\n",
            "[np.float64(5.83913505154639), np.float64(4.593041133362872)]\n",
            "5.83913505154639\n",
            "4.593041133362872\n",
            "[np.float64(5.83913505154639), np.float64(4.593041133362872)]\n",
            "5.83913505154639\n",
            "4.593041133362872\n",
            "[np.float64(5.83913505154639), np.float64(4.593041133362872)]\n",
            "5.83913505154639\n",
            "4.593041133362872\n",
            "[np.float64(5.83913505154639), np.float64(4.593041133362872)]\n",
            "5.83913505154639\n",
            "4.593041133362872\n",
            "[np.float64(5.83913505154639), np.float64(4.593041133362872)]\n",
            "5.83913505154639\n",
            "4.593041133362872\n",
            "[np.float64(5.83913505154639), np.float64(4.593041133362872)]\n",
            "5.83913505154639\n",
            "4.593041133362872\n",
            "[np.float64(5.83913505154639), np.float64(4.593041133362872)]\n",
            "5.83913505154639\n",
            "4.593041133362872\n",
            "[np.float64(5.83913505154639), np.float64(4.593041133362872)]\n",
            "5.83913505154639\n",
            "4.593041133362872\n",
            "[np.float64(5.83913505154639), np.float64(4.593041133362872)]\n",
            "5.83913505154639\n",
            "4.593041133362872\n",
            "[np.float64(5.83913505154639), np.float64(4.593041133362872)]\n",
            "5.83913505154639\n",
            "4.593041133362872\n",
            "[np.float64(5.83913505154639), np.float64(4.593041133362872)]\n",
            "5.83913505154639\n",
            "4.593041133362872\n",
            "[np.float64(5.83913505154639), np.float64(4.593041133362872)]\n",
            "5.83913505154639\n",
            "4.593041133362872\n",
            "[np.float64(5.83913505154639), np.float64(4.593041133362872)]\n",
            "5.83913505154639\n",
            "4.593041133362872\n",
            "[np.float64(5.83913505154639), np.float64(4.593041133362872)]\n",
            "5.83913505154639\n",
            "4.593041133362872\n",
            "[np.float64(5.83913505154639), np.float64(4.593041133362872)]\n",
            "5.83913505154639\n",
            "4.593041133362872\n",
            "[np.float64(5.83913505154639), np.float64(4.593041133362872)]\n",
            "5.83913505154639\n",
            "4.593041133362872\n",
            "[np.float64(5.83913505154639), np.float64(4.593041133362872)]\n"
          ]
        }
      ]
    },
    {
      "cell_type": "code",
      "source": [
        "# Let's do an exploratory plot\n",
        "plt.plot(error_traj)\n",
        "plt.xlabel('Epoch')\n",
        "plt.ylabel('Error')\n",
        "plt.title('Training of Demo Regression model');\n",
        "ax = plt.gca()\n",
        "ax.set_ylim([-10, 30])"
      ],
      "metadata": {
        "colab": {
          "base_uri": "https://localhost:8080/",
          "height": 489
        },
        "id": "eQU1G8PRiIZ_",
        "outputId": "ce9b62d4-1618-4464-a1c6-fd30dbb45920"
      },
      "execution_count": 8,
      "outputs": [
        {
          "output_type": "execute_result",
          "data": {
            "text/plain": [
              "(-10.0, 30.0)"
            ]
          },
          "metadata": {},
          "execution_count": 8
        },
        {
          "output_type": "display_data",
          "data": {
            "text/plain": [
              "<Figure size 640x480 with 1 Axes>"
            ],
            "image/png": "[encoded data removed]"
          },
          "metadata": {}
        }
      ]
    },
    {
      "cell_type": "code",
      "source": [
        "\n",
        "\n",
        "lin_pts = np.linspace(0, 25, 100) # gives you 100 values between [0, 25]\n",
        "\n",
        "#Denormalize thetas\n",
        "X = np.array([ex[0] for ex in food_data])  # extract x values\n",
        "mean_X = np.mean(X)\n",
        "std_X = np.std(X)\n",
        "theta_1 = thetas[1] / std_X\n",
        "theta_0 = thetas[0] - theta_1 * mean_X\n",
        "\n",
        "mdl_pts = theta_0 + lin_pts * theta_1\n",
        "print(theta_0)\n",
        "print(theta_1)\n",
        "plt.plot(lin_pts, mdl_pts, linewidth=4, label='Final model fit')\n",
        "plt.legend()\n",
        "ax = plt.gca()\n",
        "ax.set_ylim([-10, 30])\n",
        "\n",
        "# Let's look at the original least squares\n",
        "orig_mdl_pts = old_thetas[0] + lin_pts * old_thetas[1]\n",
        "plt.plot(lin_pts, orig_mdl_pts, ':', linewidth=4, label='Original model fit')\n",
        "plt.legend()\n",
        "\n",
        "# Let's plot the original points\n",
        "plt.plot(food_data[:,0], food_data[:,1], 'ro', label='Data points') # 'ro' for red, circle\n",
        "plt.legend()\n",
        "plt.xlabel('Demo x label')\n",
        "plt.ylabel('Demo y label')\n",
        "plt.title('Comparison of pre- vs post-model training')\n"
      ],
      "metadata": {
        "colab": {
          "base_uri": "https://localhost:8080/",
          "height": 524
        },
        "id": "P9aTu4Q-iIdT",
        "outputId": "def68018-e317-43a6-c194-c96a8a2f60ed"
      },
      "execution_count": 9,
      "outputs": [
        {
          "output_type": "stream",
          "name": "stdout",
          "text": [
            "-3.8957808783118546\n",
            "1.1930336441895937\n"
          ]
        },
        {
          "output_type": "execute_result",
          "data": {
            "text/plain": [
              "Text(0.5, 1.0, 'Comparison of pre- vs post-model training')"
            ]
          },
          "metadata": {},
          "execution_count": 9
        },
        {
          "output_type": "display_data",
          "data": {
            "text/plain": [
              "<Figure size 640x480 with 1 Axes>"
            ],
            "image/png": "[encoded data removed]"
          },
          "metadata": {}
        }
      ]
    },
    {
      "cell_type": "markdown",
      "source": [
        "Model Definition and Summary: This model used a one variable linear regression, where the x1 variable (the input feature) was the population of the city and we were trying to predict the profit of the truck. The need is to compute theta 0 and theta 1 the intercept and slope of the linear line we are fitting through the data."
      ],
      "metadata": {
        "id": "ASQxZWTBkF7K"
      }
    },
    {
      "cell_type": "markdown",
      "source": [
        "#Multi Variable Regression"
      ],
      "metadata": {
        "id": "QpvOke0Wk2Sp"
      }
    },
    {
      "cell_type": "code",
      "source": [
        "# Load data from text file\n",
        "housing_data = np.array([\n",
        "    [2104,3,399900],\n",
        "[1600,3,329900],\n",
        "[2400,3,369000],\n",
        "[1416,2,232000],\n",
        "[3000,4,539900],\n",
        "[1985,4,299900],\n",
        "[1534,3,314900],\n",
        "[1427,3,198999],\n",
        "[1380,3,212000],\n",
        "[1494,3,242500],\n",
        "[1940,4,239999],\n",
        "[2000,3,347000],\n",
        "[1890,3,329999],\n",
        "[4478,5,699900],\n",
        "[1268,3,259900],\n",
        "[2300,4,449900],\n",
        "[1320,2,299900],\n",
        "[1236,3,199900],\n",
        "[2609,4,499998],\n",
        "[3031,4,599000],\n",
        "[1767,3,252900],\n",
        "[1888,2,255000],\n",
        "[1604,3,242900],\n",
        "[1962,4,259900],\n",
        "[3890,3,573900],\n",
        "[1100,3,249900],\n",
        "[1458,3,464500],\n",
        "[2526,3,469000],\n",
        "[2200,3,475000],\n",
        "[2637,3,299900],\n",
        "[1839,2,349900],\n",
        "[1000,1,169900],\n",
        "[2040,4,314900],\n",
        "[3137,3,579900],\n",
        "[1811,4,285900],\n",
        "[1437,3,249900],\n",
        "[1239,3,229900],\n",
        "[2132,4,345000],\n",
        "[4215,4,549000],\n",
        "[2162,4,287000],\n",
        "[1664,2,368500],\n",
        "[2238,3,329900],\n",
        "[2567,4,314000],\n",
        "[1200,3,299000],\n",
        "[852,2,179900],\n",
        "[1852,4,299900],\n",
        "[1203,3,239500]\n",
        "])"
      ],
      "metadata": {
        "id": "CRgBtUNYleQj"
      },
      "execution_count": 10,
      "outputs": []
    },
    {
      "cell_type": "code",
      "source": [
        "# Plot the data food_data\n",
        "plt.scatter(housing_data[:,0], housing_data[:,2])\n",
        "plt.show()"
      ],
      "metadata": {
        "id": "0MNmx2NQiIei",
        "outputId": "a348a89e-9f33-4b3f-dc18-02bc20248ef3",
        "colab": {
          "base_uri": "https://localhost:8080/",
          "height": 430
        }
      },
      "execution_count": 11,
      "outputs": [
        {
          "output_type": "display_data",
          "data": {
            "text/plain": [
              "<Figure size 640x480 with 1 Axes>"
            ],
            "image/png": "[encoded data removed]"
          },
          "metadata": {}
        }
      ]
    },
    {
      "cell_type": "code",
      "source": [
        "# Plot the data food_data\n",
        "plt.scatter(housing_data[:,1], housing_data[:,2])\n",
        "plt.show()"
      ],
      "metadata": {
        "id": "4FzECSgoiIgj",
        "outputId": "004d7816-6ab2-4340-ce97-919a0e4cba0c",
        "colab": {
          "base_uri": "https://localhost:8080/",
          "height": 430
        }
      },
      "execution_count": 12,
      "outputs": [
        {
          "output_type": "display_data",
          "data": {
            "text/plain": [
              "<Figure size 640x480 with 1 Axes>"
            ],
            "image/png": "[encoded data removed]"
          },
          "metadata": {}
        }
      ]
    },
    {
      "cell_type": "code",
      "source": [
        "def calculate_single_forward_2(thetas, train_ex):\n",
        "    '''\n",
        "        thetas: theta0, theta1, ..., thetaj\n",
        "        train_ex: (x, y)\n",
        "\n",
        "        returns: gradients based on a single training example\n",
        "    '''\n",
        "\n",
        "    # parse model parameters\n",
        "    theta_0 = thetas[0]\n",
        "    theta_1 = thetas[1]\n",
        "    theta_2 = thetas[2]\n",
        "\n",
        "    # parse data inputs\n",
        "    x0 = 1\n",
        "    x1 = train_ex[0]\n",
        "    x2 = train_ex[1]\n",
        "    y = train_ex[2]\n",
        "\n",
        "    # do one forward pass with a single training example\n",
        "    # to calculate error and gradient\n",
        "    y_hat = theta_0 + theta_1 * x1 + theta_2 * x2\n",
        "    error = y_hat - y\n",
        "\n",
        "    # for each theta, we need the gradient for an update\n",
        "    gradients = np.array([error * x0, error * x1, error * x2])\n",
        "\n",
        "    # Question: what would you do differently for GD or mini-batch GD?\n",
        "\n",
        "    return gradients"
      ],
      "metadata": {
        "id": "oJJH_pTpmfp5"
      },
      "execution_count": 13,
      "outputs": []
    },
    {
      "cell_type": "code",
      "source": [
        "def gradient_descent_2(training_data, thetas, alpha=5e-3):\n",
        "    '''\n",
        "    training_data: training dataset\n",
        "    thetas: theta0, theta1, ..., thetaj\n",
        "    alpha: learning rate, default to 0.0005\n",
        "\n",
        "    returns:\n",
        "            - thetas: the updated thetas\n",
        "            - total_error: total error (note, not loss) from this iteration\n",
        "    '''\n",
        "\n",
        "    total_error = 0\n",
        "    overall_gradients = np.zeros(3)\n",
        "\n",
        "    # compute the summation of gradients across all training examples\n",
        "    for ex in training_data:\n",
        "        gradients = calculate_single_forward_2(thetas, ex)\n",
        "        # gradients[0] is the error term (gradients[0] = error * x0 = error * 1)\n",
        "        total_error += gradients[0]\n",
        "        overall_gradients = overall_gradients + gradients\n",
        "\n",
        "    # update thetas\n",
        "    theta_0, theta_1, theta_2 = thetas\n",
        "    thetas[0] = theta_0 - alpha * overall_gradients[0]\n",
        "    thetas[1] = theta_1 - alpha * overall_gradients[1]\n",
        "    thetas[2] = theta_2 - alpha * overall_gradients[2]\n",
        "    print(thetas[0])\n",
        "    print(thetas[1])\n",
        "    print(thetas[2])\n",
        "\n",
        "    return thetas, total_error"
      ],
      "metadata": {
        "id": "frqT1W2ImyRM"
      },
      "execution_count": 14,
      "outputs": []
    },
    {
      "cell_type": "code",
      "source": [
        "def normalize_data_2(training_data):\n",
        "    ''' Normalize the training data by scaling features to have zero mean and unit variance '''\n",
        "    X = np.array([ex[0] for ex in training_data])  # extract x values\n",
        "    mean_X = np.mean(X)\n",
        "    std_X = np.std(X)\n",
        "    normalized_X = (X - mean_X) / std_X\n",
        "    X_2 = np.array([ex[1] for ex in training_data])  # extract x values\n",
        "    mean_X_2 = np.mean(X_2)\n",
        "    std_X_2 = np.std(X_2)\n",
        "    normalized_X_2 = (X_2 - mean_X_2) / std_X_2\n",
        "    return [(normalized_X[i], normalized_X_2[i], training_data[i][1]) for i in range(len(training_data))]"
      ],
      "metadata": {
        "id": "GICA3U4CnHCW"
      },
      "execution_count": 15,
      "outputs": []
    },
    {
      "cell_type": "code",
      "source": [
        "# set initial parameters\n",
        "thetas = [0, 0.01, 0.1]\n",
        "old_thetas = thetas.copy()\n",
        "alpha = 5e-3\n",
        "\n",
        "# prepare training\n",
        "total_epochs = 75\n",
        "error_traj = [0] * total_epochs\n",
        "#had to normalize data because otherwise it was bouncing too much (the thetas and would go from -infin to infin probably because of the negative values in the data)\n",
        "training_data_normalized_2 = normalize_data_2(housing_data)\n",
        "\n",
        "# perform training\n",
        "for epoch in range(total_epochs):\n",
        "    thetas, epoch_error = gradient_descent_2(training_data_normalized_2, thetas, alpha)\n",
        "    print(thetas)\n",
        "    # store a history of errors\n",
        "    error_traj[epoch] = epoch_error\n"
      ],
      "metadata": {
        "id": "MZX_BGtAncJK",
        "outputId": "4f11dde7-8ce1-4393-da20-b7873b52f4d8",
        "colab": {
          "base_uri": "https://localhost:8080/",
          "height": 0
        }
      },
      "execution_count": 16,
      "outputs": [
        {
          "output_type": "stream",
          "name": "stdout",
          "text": [
            "0.7449999999999999\n",
            "0.09355908222565779\n",
            "0.25210213719934776\n",
            "[np.float64(0.7449999999999999), np.float64(0.09355908222565779), np.float64(0.25210213719934776)]\n",
            "1.3149250000000001\n",
            "0.13746631112107732\n",
            "0.3574645409241807\n",
            "[np.float64(1.3149250000000001), np.float64(0.13746631112107732), np.float64(0.3574645409241807)]\n",
            "1.750917625\n",
            "0.15719046092189015\n",
            "0.4322889268432033\n",
            "[np.float64(1.750917625), np.float64(0.15719046092189015), np.float64(0.4322889268432033)]\n",
            "2.084451983125\n",
            "0.16243312300266172\n",
            "0.4869340359711091\n",
            "[np.float64(2.084451983125), np.float64(0.16243312300266172), np.float64(0.4869340359711091)]\n",
            "2.339605767090625\n",
            "0.15925288428201725\n",
            "0.5280476505292226\n",
            "[np.float64(2.339605767090625), np.float64(0.15925288428201725), np.float64(0.5280476505292226)]\n",
            "2.534798411824328\n",
            "0.15140976684670762\n",
            "0.5599180605717781\n",
            "[np.float64(2.534798411824328), np.float64(0.15140976684670762), np.float64(0.5599180605717781)]\n",
            "2.684120785045611\n",
            "0.14121588167172838\n",
            "0.5853310180620656\n",
            "[np.float64(2.684120785045611), np.float64(0.14121588167172838), np.float64(0.5853310180620656)]\n",
            "2.7983524005598923\n",
            "0.13007341016431861\n",
            "0.6061133672670871\n",
            "[np.float64(2.7983524005598923), np.float64(0.13007341016431861), np.float64(0.6061133672670871)]\n",
            "2.8857395864283175\n",
            "0.11881462247493213\n",
            "0.6234781277844915\n",
            "[np.float64(2.8857395864283175), np.float64(0.11881462247493213), np.float64(0.6234781277844915)]\n",
            "2.952590783617663\n",
            "0.10791658123833403\n",
            "0.6382437392689706\n",
            "[np.float64(2.952590783617663), np.float64(0.10791658123833403), np.float64(0.6382437392689706)]\n",
            "3.0037319494675123\n",
            "0.09763653901926078\n",
            "0.6509735302903407\n",
            "[np.float64(3.0037319494675123), np.float64(0.09763653901926078), np.float64(0.6509735302903407)]\n",
            "3.0428549413426467\n",
            "0.0880971643315103\n",
            "0.6620645947496324\n",
            "[np.float64(3.0428549413426467), np.float64(0.0880971643315103), np.float64(0.6620645947496324)]\n",
            "3.0727840301271248\n",
            "0.07934004409115737\n",
            "0.6718045672501226\n",
            "[np.float64(3.0727840301271248), np.float64(0.07934004409115737), np.float64(0.6718045672501226)]\n",
            "3.09567978304725\n",
            "0.07135914179200228\n",
            "0.680408015745672\n",
            "[np.float64(3.09567978304725), np.float64(0.07135914179200228), np.float64(0.680408015745672)]\n",
            "3.1131950340311465\n",
            "0.06412160401774528\n",
            "0.6880398790786767\n",
            "[np.float64(3.1131950340311465), np.float64(0.06412160401774528), np.float64(0.6880398790786767)]\n",
            "3.1265942010338272\n",
            "0.05758059322443815\n",
            "0.694830658719954\n",
            "[np.float64(3.1265942010338272), np.float64(0.05758059322443815), np.float64(0.694830658719954)]\n",
            "3.136844563790878\n",
            "0.05168310570317326\n",
            "0.7008863517544869\n",
            "[np.float64(3.136844563790878), np.float64(0.05168310570317326), np.float64(0.7008863517544869)]\n",
            "3.1446860913000214\n",
            "0.046374645217170024\n",
            "0.7062950208318809\n",
            "[np.float64(3.1446860913000214), np.float64(0.046374645217170024), np.float64(0.7062950208318809)]\n",
            "3.1506848598445165\n",
            "0.04160193377930032\n",
            "0.7111312051638432\n",
            "[np.float64(3.1506848598445165), np.float64(0.04160193377930032), np.float64(0.7111312051638432)]\n",
            "3.155273917781055\n",
            "0.03731440494362276\n",
            "0.7154589382198234\n",
            "[np.float64(3.155273917781055), np.float64(0.03731440494362276), np.float64(0.7154589382198234)]\n",
            "3.158784547102507\n",
            "0.033464949067917256\n",
            "0.7193338597585217\n",
            "[np.float64(3.158784547102507), np.float64(0.033464949067917256), np.float64(0.7193338597585217)]\n",
            "3.161470178533418\n",
            "0.03001020551245511\n",
            "0.7228047334611869\n",
            "[np.float64(3.161470178533418), np.float64(0.03001020551245511), np.float64(0.7228047334611869)]\n",
            "3.1635246865780644\n",
            "0.02691058646321223\n",
            "0.7259145694699829\n",
            "[np.float64(3.1635246865780644), np.float64(0.02691058646321223), np.float64(0.7259145694699829)]\n",
            "3.165096385232219\n",
            "0.024130147439229765\n",
            "0.7287014799948882\n",
            "[np.float64(3.165096385232219), np.float64(0.024130147439229765), np.float64(0.7287014799948882)]\n",
            "3.1662987347026474\n",
            "0.021636375639471087\n",
            "0.7311993508932072\n",
            "[np.float64(3.1662987347026474), np.float64(0.021636375639471087), np.float64(0.7311993508932072)]\n",
            "3.1672185320475252\n",
            "0.01939993965347956\n",
            "0.7334383832798185\n",
            "[np.float64(3.1672185320475252), np.float64(0.01939993965347956), np.float64(0.7334383832798185)]\n",
            "3.1679221770163566\n",
            "0.017394426718297214\n",
            "0.7354455407951638\n",
            "[np.float64(3.1679221770163566), np.float64(0.017394426718297214), np.float64(0.7354455407951638)]\n",
            "3.1684604654175126\n",
            "0.015596082862987396\n",
            "0.7372449263402235\n",
            "[np.float64(3.1684604654175126), np.float64(0.015596082862987396), np.float64(0.7372449263402235)]\n",
            "3.168872256044397\n",
            "0.013983564543775055\n",
            "0.7388581044737518\n",
            "[np.float64(3.168872256044397), np.float64(0.013983564543775055), np.float64(0.7388581044737518)]\n",
            "3.1691872758739636\n",
            "0.012537706219937925\n",
            "0.7403043807290618\n",
            "[np.float64(3.1691872758739636), np.float64(0.012537706219937925), np.float64(0.7403043807290618)]\n",
            "3.169428266043582\n",
            "0.011241305793426828\n",
            "0.7416010458765888\n",
            "[np.float64(3.169428266043582), np.float64(0.011241305793426828), np.float64(0.7416010458765888)]\n",
            "3.1696126235233404\n",
            "0.010078928327104459\n",
            "0.7427635910192428\n",
            "[np.float64(3.1696126235233404), np.float64(0.010078928327104459), np.float64(0.7427635910192428)]\n",
            "3.1697536569953555\n",
            "0.009036727584307468\n",
            "0.7438058979695206\n",
            "[np.float64(3.1697536569953555), np.float64(0.009036727584307468), np.float64(0.7438058979695206)]\n",
            "3.169861547601447\n",
            "0.008102284454450695\n",
            "0.7447404083720142\n",
            "[np.float64(3.169861547601447), np.float64(0.008102284454450695), np.float64(0.7447404083720142)]\n",
            "3.169944083915107\n",
            "0.007264461093395693\n",
            "0.7455782743440759\n",
            "[np.float64(3.169944083915107), np.float64(0.007264461093395693), np.float64(0.7455782743440759)]\n",
            "3.1700072241950568\n",
            "0.006513269517682112\n",
            "0.7463294929099294\n",
            "[np.float64(3.1700072241950568), np.float64(0.006513269517682112), np.float64(0.7463294929099294)]\n",
            "3.1700555265092185\n",
            "0.005839753388621816\n",
            "0.7470030261347524\n",
            "[np.float64(3.1700555265092185), np.float64(0.005839753388621816), np.float64(0.7470030261347524)]\n",
            "3.1700924777795523\n",
            "0.005235881768411482\n",
            "0.7476069085835506\n",
            "[np.float64(3.1700924777795523), np.float64(0.005235881768411482), np.float64(0.7476069085835506)]\n",
            "3.1701207455013574\n",
            "0.004694453702799088\n",
            "0.748148343508074\n",
            "[np.float64(3.1701207455013574), np.float64(0.004694453702799088), np.float64(0.748148343508074)]\n",
            "3.1701423703085383\n",
            "0.004209012569366818\n",
            "0.7486337889859934\n",
            "[np.float64(3.1701423703085383), np.float64(0.004209012569366818), np.float64(0.7486337889859934)]\n",
            "3.170158913286032\n",
            "0.0037737692187158126\n",
            "0.749069035088476\n",
            "[np.float64(3.170158913286032), np.float64(0.0037737692187158126), np.float64(0.749069035088476)]\n",
            "3.1701715686638146\n",
            "0.0033835330228143877\n",
            "0.7494592730274088\n",
            "[np.float64(3.1701715686638146), np.float64(0.0033835330228143877), np.float64(0.7494592730274088)]\n",
            "3.170181250027818\n",
            "0.003033650027742479\n",
            "0.7498091571265302\n",
            "[np.float64(3.170181250027818), np.float64(0.003033650027742479), np.float64(0.7498091571265302)]\n",
            "3.1701886562712804\n",
            "0.002719947485618075\n",
            "0.750122860367968\n",
            "[np.float64(3.1701886562712804), np.float64(0.002719947485618075), np.float64(0.750122860367968)]\n",
            "3.1701943220475295\n",
            "0.002438684112024482\n",
            "0.7504041241845122\n",
            "[np.float64(3.1701943220475295), np.float64(0.002438684112024482), np.float64(0.7504041241845122)]\n",
            "3.17019865636636\n",
            "0.002186505480662961\n",
            "0.7506563030964419\n",
            "[np.float64(3.17019865636636), np.float64(0.002186505480662961), np.float64(0.7506563030964419)]\n",
            "3.170201972120265\n",
            "0.001960404026399442\n",
            "0.7508824047284196\n",
            "[np.float64(3.170201972120265), np.float64(0.001960404026399442), np.float64(0.7508824047284196)]\n",
            "3.1702045086720028\n",
            "0.0017576831816804757\n",
            "0.7510851256857041\n",
            "[np.float64(3.1702045086720028), np.float64(0.0017576831816804757), np.float64(0.7510851256857041)]\n",
            "3.1702064491340822\n",
            "0.0015759252198583212\n",
            "0.751266883718826\n",
            "[np.float64(3.1702064491340822), np.float64(0.0015759252198583212), np.float64(0.751266883718826)]\n",
            "3.170207933587573\n",
            "0.0014129624227111775\n",
            "0.7514298465611351\n",
            "[np.float64(3.170207933587573), np.float64(0.0014129624227111775), np.float64(0.7514298465611351)]\n",
            "3.1702090691944935\n",
            "0.0012668512287971815\n",
            "0.7515759577836549\n",
            "[np.float64(3.1702090691944935), np.float64(0.0012668512287971815), np.float64(0.7515759577836549)]\n",
            "3.1702099379337874\n",
            "0.0011358490546457345\n",
            "0.7517069599759255\n",
            "[np.float64(3.1702099379337874), np.float64(0.0011358490546457345), np.float64(0.7517069599759255)]\n",
            "3.1702106025193473\n",
            "0.0010183935125484443\n",
            "0.7518244155294996\n",
            "[np.float64(3.1702106025193473), np.float64(0.0010183935125484443), np.float64(0.7518244155294996)]\n",
            "3.170211110927301\n",
            "0.0009130837772213309\n",
            "0.7519297252720962\n",
            "[np.float64(3.170211110927301), np.float64(0.0009130837772213309), np.float64(0.7519297252720962)]\n",
            "3.170211499859385\n",
            "0.0008186638791905288\n",
            "0.7520241451747316\n",
            "[np.float64(3.170211499859385), np.float64(0.0008186638791905288), np.float64(0.7520241451747316)]\n",
            "3.1702117973924295\n",
            "0.0007340077257025273\n",
            "0.7521088013311362\n",
            "[np.float64(3.1702117973924295), np.float64(0.0007340077257025273), np.float64(0.7521088013311362)]\n",
            "3.1702120250052084\n",
            "0.0006581056705447018\n",
            "0.7521847033881415\n",
            "[np.float64(3.1702120250052084), np.float64(0.0006581056705447018), np.float64(0.7521847033881415)]\n",
            "3.170212199128984\n",
            "0.0005900524726227522\n",
            "0.7522527565872336\n",
            "[np.float64(3.170212199128984), np.float64(0.0005900524726227522), np.float64(0.7522527565872336)]\n",
            "3.170212332333673\n",
            "0.0005290364996966221\n",
            "0.7523137725609008\n",
            "[np.float64(3.170212332333673), np.float64(0.0005290364996966221), np.float64(0.7523137725609008)]\n",
            "3.1702124342352596\n",
            "0.00047433004852244227\n",
            "0.7523684790125444\n",
            "[np.float64(3.1702124342352596), np.float64(0.00047433004852244227), np.float64(0.7523684790125444)]\n",
            "3.1702125121899734\n",
            "0.00042528066595946606\n",
            "0.7524175283954048\n",
            "[np.float64(3.1702125121899734), np.float64(0.00042528066595946606), np.float64(0.7524175283954048)]\n",
            "3.1702125718253296\n",
            "0.0003813033675370356\n",
            "0.7524615056940156\n",
            "[np.float64(3.1702125718253296), np.float64(0.0003813033675370356), np.float64(0.7524615056940156)]\n",
            "3.170212617446377\n",
            "0.00034187366067886223\n",
            "0.752500935400993\n",
            "[np.float64(3.170212617446377), np.float64(0.00034187366067886223), np.float64(0.752500935400993)]\n",
            "3.1702126523464784\n",
            "0.0003065212893781177\n",
            "0.7525362877723694\n",
            "[np.float64(3.1702126523464784), np.float64(0.0003065212893781177), np.float64(0.7525362877723694)]\n",
            "3.170212679045056\n",
            "0.0002748246257199718\n",
            "0.7525679844360754\n",
            "[np.float64(3.170212679045056), np.float64(0.0002748246257199718), np.float64(0.7525679844360754)]\n",
            "3.170212699469468\n",
            "0.0002464056413633502\n",
            "0.7525964034204624\n",
            "[np.float64(3.170212699469468), np.float64(0.0002464056413633502), np.float64(0.7525964034204624)]\n",
            "3.170212715094143\n",
            "0.00022092539900975516\n",
            "0.7526218836628352\n",
            "[np.float64(3.170212715094143), np.float64(0.00022092539900975516), np.float64(0.7526218836628352)]\n",
            "3.1702127270470193\n",
            "0.0001980800100887277\n",
            "0.7526447290517684\n",
            "[np.float64(3.1702127270470193), np.float64(0.0001980800100887277), np.float64(0.7526447290517684)]\n",
            "3.1702127361909698\n",
            "0.0001775970104495066\n",
            "0.7526652120514153\n",
            "[np.float64(3.1702127361909698), np.float64(0.0001775970104495066), np.float64(0.7526652120514153)]\n",
            "3.170212743186092\n",
            "0.00015923211083405245\n",
            "0.7526835769510357\n",
            "[np.float64(3.170212743186092), np.float64(0.00015923211083405245), np.float64(0.7526835769510357)]\n",
            "3.1702127485373603\n",
            "0.00014276628337610628\n",
            "0.7527000427784967\n",
            "[np.float64(3.1702127485373603), np.float64(0.00014276628337610628), np.float64(0.7527000427784967)]\n",
            "3.1702127526310804\n",
            "0.00012800314937874664\n",
            "0.752714805912496\n",
            "[np.float64(3.1702127526310804), np.float64(0.00012800314937874664), np.float64(0.752714805912496)]\n",
            "3.1702127557627766\n",
            "0.00011476663721563793\n",
            "0.7527280424246603\n",
            "[np.float64(3.1702127557627766), np.float64(0.00011476663721563793), np.float64(0.7527280424246603)]\n",
            "3.170212758158524\n",
            "0.00010289888242356539\n",
            "0.7527399101794532\n",
            "[np.float64(3.170212758158524), np.float64(0.00010289888242356539), np.float64(0.7527399101794532)]\n",
            "3.170212759991271\n",
            "9.225834494144971e-05\n",
            "0.7527505507169358\n",
            "[np.float64(3.170212759991271), np.float64(9.225834494144971e-05), np.float64(0.7527505507169358)]\n"
          ]
        }
      ]
    },
    {
      "cell_type": "code",
      "source": [
        "# Plot the data food_data\n",
        "plt.scatter(housing_data[:,0], housing_data[:,2])\n",
        "plt.show()\n",
        "\n",
        "lin_pts = np.linspace(0, 5000, 100) # gives you 100 values between [0, 25]\n",
        "\n",
        "''' Normalize the training data by scaling features to have zero mean and unit variance '''\n",
        "X_1 = np.array([ex[0] for ex in housing_data])  # extract x values\n",
        "mean_X = np.mean(X_1)\n",
        "std_X = np.std(X_1)\n",
        "X_2 = np.array([ex[1] for ex in housing_data])  # extract x values\n",
        "mean_X_2 = np.mean(X_2)\n",
        "std_X_2 = np.std(X_2)\n",
        "\n",
        "\n",
        "#Denormalize thetas from normalize_theta_2\n",
        "theta_1 = thetas[1] / std_X\n",
        "theta_2 = thetas[2] / std_X_2\n",
        "theta_0 = thetas[0] - (theta_1 * mean_X) - (theta_2 * mean_X_2)\n",
        "\n",
        "mdl_pts = theta_0 + lin_pts * theta_1\n",
        "print(theta_0)\n",
        "print(theta_1)\n",
        "plt.plot(lin_pts, mdl_pts, linewidth=4, label='Final model fit')\n",
        "plt.legend()\n",
        "ax = plt.gca()\n",
        "ax.set_ylim([-10, 30])\n",
        "\n"
      ],
      "metadata": {
        "id": "lHfy7dlVrqrt",
        "outputId": "83d44ae0-a57f-42ad-b065-d6af8b5def54",
        "colab": {
          "base_uri": "https://localhost:8080/",
          "height": 900
        }
      },
      "execution_count": 17,
      "outputs": [
        {
          "output_type": "display_data",
          "data": {
            "text/plain": [
              "<Figure size 640x480 with 1 Axes>"
            ],
            "image/png": "[encoded data removed]"
          },
          "metadata": {}
        },
        {
          "output_type": "stream",
          "name": "stdout",
          "text": [
            "0.0001537194532166275\n",
            "1.1734677898802872e-07\n"
          ]
        },
        {
          "output_type": "execute_result",
          "data": {
            "text/plain": [
              "(-10.0, 30.0)"
            ]
          },
          "metadata": {},
          "execution_count": 17
        },
        {
          "output_type": "display_data",
          "data": {
            "text/plain": [
              "<Figure size 640x480 with 1 Axes>"
            ],
            "image/png": "[encoded data removed]"
          },
          "metadata": {}
        }
      ]
    },
    {
      "cell_type": "code",
      "source": [
        "# Let's do an exploratory plot\n",
        "plt.plot(error_traj)\n",
        "plt.xlabel('Epoch')\n",
        "plt.ylabel('Error')\n",
        "plt.title('Training of Demo Regression model');\n",
        "ax = plt.gca()\n",
        "ax.set_ylim([-10, 30])"
      ],
      "metadata": {
        "id": "oBk3FV0NoDIZ",
        "outputId": "9a6329a0-bcdf-4008-fa5f-1b94b9074db1",
        "colab": {
          "base_uri": "https://localhost:8080/",
          "height": 489
        }
      },
      "execution_count": 18,
      "outputs": [
        {
          "output_type": "execute_result",
          "data": {
            "text/plain": [
              "(-10.0, 30.0)"
            ]
          },
          "metadata": {},
          "execution_count": 18
        },
        {
          "output_type": "display_data",
          "data": {
            "text/plain": [
              "<Figure size 640x480 with 1 Axes>"
            ],
            "image/png": "[encoded data removed]"
          },
          "metadata": {}
        }
      ]
    },
    {
      "cell_type": "code",
      "source": [],
      "metadata": {
        "id": "no6Zu3_voLnh"
      },
      "execution_count": 18,
      "outputs": []
    },
    {
      "cell_type": "markdown",
      "source": [
        "This multi variable regression had the square footage and the number of bedrooms as inputs and the output is the price. The weights of the thetas 0 and thetas 1 and 2 (the intercept, coeff of the square footage, and the coefficient of the number of bedrooms needed to be computed)."
      ],
      "metadata": {
        "id": "5F2zdcaRoXCz"
      }
    },
    {
      "cell_type": "markdown",
      "source": [
        "#Assignment 9"
      ],
      "metadata": {
        "id": "XD50vRsfxCPk"
      }
    },
    {
      "cell_type": "markdown",
      "source": [
        "In this assingment, we will create a fully connected, 2 layer neural network. Will be using numpy."
      ],
      "metadata": {
        "id": "K7y0LWkyawyi"
      }
    },
    {
      "cell_type": "code",
      "source": [
        "# Initialize parameters.\n",
        "# Final dataset is 32x32 color images, so 32x32x3\n",
        "input_size = 32*32*3\n",
        "print(input_size)\n",
        "hidden_size = 100\n",
        "output_size = 10\n",
        "num_samples = 200"
      ],
      "metadata": {
        "id": "_-7cHdSborC-",
        "outputId": "61ab6770-0d9e-45f6-e6ad-d62e2162202b",
        "colab": {
          "base_uri": "https://localhost:8080/",
          "height": 0
        }
      },
      "execution_count": 19,
      "outputs": [
        {
          "output_type": "stream",
          "name": "stdout",
          "text": [
            "3072\n"
          ]
        }
      ]
    },
    {
      "cell_type": "code",
      "source": [
        "# Initialize toy data\n",
        "def init_toy_data(input_size, output_size, num_samples):\n",
        "  np.random.seed(1)\n",
        "  # 100 total data points with size input_size\n",
        "  X = np.random.randn(num_samples, input_size)\n",
        "  # y is one hot encoding so one of the output_size values will be 1, rest will be 0.\n",
        "  # Random integer labels from 0 to output_size - 1\n",
        "  y_indices = np.random.randint(0, output_size, size=num_samples)\n",
        "  # One-hot encode the labels\n",
        "  y = np.zeros((num_samples, output_size))\n",
        "  y[np.arange(num_samples), y_indices] = 1\n",
        "  return X, y"
      ],
      "metadata": {
        "id": "X9ua4ThVcKmU"
      },
      "execution_count": 20,
      "outputs": []
    },
    {
      "cell_type": "code",
      "source": [
        "def get_params():\n",
        "  params = {}\n",
        "  np.random.seed(1)\n",
        "  params['W1'] = 0.01 * np.random.randn(input_size, hidden_size)\n",
        "  params['b1'] = np.zeros((1, hidden_size))\n",
        "  params['W2'] = 0.01 * np.random.randn(hidden_size, output_size)\n",
        "  params['b2'] = np.zeros((1, output_size))\n",
        "  return params\n"
      ],
      "metadata": {
        "id": "84qemTo9fYko"
      },
      "execution_count": 21,
      "outputs": []
    },
    {
      "cell_type": "code",
      "source": [
        "def softmax(Z):\n",
        "    exp_Z = np.exp(Z - np.max(Z, axis=1, keepdims=True))  # for numerical stability\n",
        "    return exp_Z / np.sum(exp_Z, axis=1, keepdims=True)\n",
        "\n",
        "# Cross-entropy loss\n",
        "def compute_loss(probs, y_true):\n",
        "    N = y_true.shape[0]\n",
        "    log_probs = -np.log(probs + 1e-9)\n",
        "    loss = np.sum(log_probs * y_true) / N\n",
        "    return loss\n",
        "\n",
        "# Forward + Backward + Parameter Update, one epoch since it uses entire dataset\n",
        "def train_one_step(X, y, params, learning_rate):\n",
        "    # Forward pass\n",
        "    Z1 = np.dot(X, params['W1']) + params['b1']\n",
        "    A1 = np.maximum(0, Z1)\n",
        "    Z2 = np.dot(A1, params['W2']) + params['b2']\n",
        "    probs = softmax(Z2)\n",
        "    loss = compute_loss(probs, y)\n",
        "\n",
        "    # Backward pass\n",
        "    N = X.shape[0]\n",
        "    dZ2 = (probs - y) / N  # gradient\n",
        "    dW2 = np.dot(A1.T, dZ2)\n",
        "    db2 = np.sum(dZ2, axis=0, keepdims=True)\n",
        "\n",
        "    dA1 = np.dot(dZ2, params['W2'].T)\n",
        "    dZ1 = dA1 * (Z1 > 0)  # ReLU backprop\n",
        "    dW1 = np.dot(X.T, dZ1)\n",
        "    db1 = np.sum(dZ1, axis=0, keepdims=True)\n",
        "\n",
        "    # Parameter update\n",
        "    params['W1'] -= learning_rate * dW1\n",
        "    params['b1'] -= learning_rate * db1\n",
        "    params['W2'] -= learning_rate * dW2\n",
        "    params['b2'] -= learning_rate * db2\n",
        "\n",
        "    return loss, params"
      ],
      "metadata": {
        "id": "zVnZMQ_1qJQF"
      },
      "execution_count": 22,
      "outputs": []
    },
    {
      "cell_type": "code",
      "source": [
        "X,y = init_toy_data(input_size, output_size, num_samples)\n",
        "print(\"X shape:\", X.shape)\n",
        "print(\"y (one-hot) shape:\", y.shape)\n",
        "# this is fine bec the dot product is mat mult so 200x3072 for X and 3072x100 for W1 works perfectly. Bec that makes final matrix of 200x100 bec 100 is hidden size\n",
        "# and 200 is num samples.\n",
        "params = get_params()\n"
      ],
      "metadata": {
        "id": "59WYZ8TBcS-A",
        "outputId": "5251ddad-9f05-4f4c-8933-38374c4d6efb",
        "colab": {
          "base_uri": "https://localhost:8080/",
          "height": 0
        }
      },
      "execution_count": 23,
      "outputs": [
        {
          "output_type": "stream",
          "name": "stdout",
          "text": [
            "X shape: (200, 3072)\n",
            "y (one-hot) shape: (200, 10)\n"
          ]
        }
      ]
    },
    {
      "cell_type": "code",
      "source": [
        "# Train for 100 epochs\n",
        "for i in range(100):\n",
        "    loss, params = train_one_step(X, y, params, learning_rate=1e-4)\n",
        "    print(f\"Step {i+1}, Loss: {loss:.4f}\")"
      ],
      "metadata": {
        "id": "WBXdeFjykHqt",
        "outputId": "6617d3b2-b7fb-4ad6-86e9-63ce75ad76ef",
        "colab": {
          "base_uri": "https://localhost:8080/",
          "height": 0
        }
      },
      "execution_count": 24,
      "outputs": [
        {
          "output_type": "stream",
          "name": "stdout",
          "text": [
            "Step 1, Loss: 2.3051\n",
            "Step 2, Loss: 2.3051\n",
            "Step 3, Loss: 2.3050\n",
            "Step 4, Loss: 2.3050\n",
            "Step 5, Loss: 2.3050\n",
            "Step 6, Loss: 2.3050\n",
            "Step 7, Loss: 2.3050\n",
            "Step 8, Loss: 2.3050\n",
            "Step 9, Loss: 2.3050\n",
            "Step 10, Loss: 2.3049\n",
            "Step 11, Loss: 2.3049\n",
            "Step 12, Loss: 2.3049\n",
            "Step 13, Loss: 2.3049\n",
            "Step 14, Loss: 2.3049\n",
            "Step 15, Loss: 2.3049\n",
            "Step 16, Loss: 2.3049\n",
            "Step 17, Loss: 2.3049\n",
            "Step 18, Loss: 2.3048\n",
            "Step 19, Loss: 2.3048\n",
            "Step 20, Loss: 2.3048\n",
            "Step 21, Loss: 2.3048\n",
            "Step 22, Loss: 2.3048\n",
            "Step 23, Loss: 2.3048\n",
            "Step 24, Loss: 2.3048\n",
            "Step 25, Loss: 2.3047\n",
            "Step 26, Loss: 2.3047\n",
            "Step 27, Loss: 2.3047\n",
            "Step 28, Loss: 2.3047\n",
            "Step 29, Loss: 2.3047\n",
            "Step 30, Loss: 2.3047\n",
            "Step 31, Loss: 2.3047\n",
            "Step 32, Loss: 2.3046\n",
            "Step 33, Loss: 2.3046\n",
            "Step 34, Loss: 2.3046\n",
            "Step 35, Loss: 2.3046\n",
            "Step 36, Loss: 2.3046\n",
            "Step 37, Loss: 2.3046\n",
            "Step 38, Loss: 2.3046\n",
            "Step 39, Loss: 2.3046\n",
            "Step 40, Loss: 2.3045\n",
            "Step 41, Loss: 2.3045\n",
            "Step 42, Loss: 2.3045\n",
            "Step 43, Loss: 2.3045\n",
            "Step 44, Loss: 2.3045\n",
            "Step 45, Loss: 2.3045\n",
            "Step 46, Loss: 2.3045\n",
            "Step 47, Loss: 2.3044\n",
            "Step 48, Loss: 2.3044\n",
            "Step 49, Loss: 2.3044\n",
            "Step 50, Loss: 2.3044\n",
            "Step 51, Loss: 2.3044\n",
            "Step 52, Loss: 2.3044\n",
            "Step 53, Loss: 2.3044\n",
            "Step 54, Loss: 2.3043\n",
            "Step 55, Loss: 2.3043\n",
            "Step 56, Loss: 2.3043\n",
            "Step 57, Loss: 2.3043\n",
            "Step 58, Loss: 2.3043\n",
            "Step 59, Loss: 2.3043\n",
            "Step 60, Loss: 2.3043\n",
            "Step 61, Loss: 2.3042\n",
            "Step 62, Loss: 2.3042\n",
            "Step 63, Loss: 2.3042\n",
            "Step 64, Loss: 2.3042\n",
            "Step 65, Loss: 2.3042\n",
            "Step 66, Loss: 2.3042\n",
            "Step 67, Loss: 2.3042\n",
            "Step 68, Loss: 2.3042\n",
            "Step 69, Loss: 2.3041\n",
            "Step 70, Loss: 2.3041\n",
            "Step 71, Loss: 2.3041\n",
            "Step 72, Loss: 2.3041\n",
            "Step 73, Loss: 2.3041\n",
            "Step 74, Loss: 2.3041\n",
            "Step 75, Loss: 2.3041\n",
            "Step 76, Loss: 2.3040\n",
            "Step 77, Loss: 2.3040\n",
            "Step 78, Loss: 2.3040\n",
            "Step 79, Loss: 2.3040\n",
            "Step 80, Loss: 2.3040\n",
            "Step 81, Loss: 2.3040\n",
            "Step 82, Loss: 2.3040\n",
            "Step 83, Loss: 2.3039\n",
            "Step 84, Loss: 2.3039\n",
            "Step 85, Loss: 2.3039\n",
            "Step 86, Loss: 2.3039\n",
            "Step 87, Loss: 2.3039\n",
            "Step 88, Loss: 2.3039\n",
            "Step 89, Loss: 2.3039\n",
            "Step 90, Loss: 2.3039\n",
            "Step 91, Loss: 2.3038\n",
            "Step 92, Loss: 2.3038\n",
            "Step 93, Loss: 2.3038\n",
            "Step 94, Loss: 2.3038\n",
            "Step 95, Loss: 2.3038\n",
            "Step 96, Loss: 2.3038\n",
            "Step 97, Loss: 2.3038\n",
            "Step 98, Loss: 2.3037\n",
            "Step 99, Loss: 2.3037\n",
            "Step 100, Loss: 2.3037\n"
          ]
        }
      ]
    },
    {
      "cell_type": "markdown",
      "source": [
        "##Real Dataset"
      ],
      "metadata": {
        "id": "A5XnpQclq9Vd"
      }
    },
    {
      "cell_type": "code",
      "source": [
        "import torchvision\n",
        "import torchvision.transforms as transforms"
      ],
      "metadata": {
        "id": "rAWBOTQQq80l"
      },
      "execution_count": 25,
      "outputs": []
    },
    {
      "cell_type": "code",
      "source": [
        "import pickle\n",
        "import numpy as np\n",
        "import os\n",
        "\n",
        "def load_CIFAR_batch(filename):\n",
        "    \"\"\"Load a single batch of CIFAR-10.\"\"\"\n",
        "    with open(filename, 'rb') as f:\n",
        "        dict = pickle.load(f, encoding='bytes')\n",
        "        X = dict[b'data']  # shape: (10000, 3072)\n",
        "        Y = dict[b'labels']\n",
        "        X = X.reshape(10000, 3, 32, 32).astype(\"float\")\n",
        "        Y = np.array(Y)\n",
        "        return X, Y\n",
        "\n",
        "def load_CIFAR10(cifar10_dir):\n",
        "    \"\"\"Load all batches of CIFAR-10.\"\"\"\n",
        "    X_train = []\n",
        "    y_train = []\n",
        "\n",
        "    # Load all training batches\n",
        "    for i in range(1, 6):\n",
        "        f = os.path.join(cifar10_dir, f'data_batch_{i}')\n",
        "        X, Y = load_CIFAR_batch(f)\n",
        "        X_train.append(X)\n",
        "        y_train.append(Y)\n",
        "\n",
        "    X_train = np.concatenate(X_train)  # shape: (50000, 3, 32, 32)\n",
        "    y_train = np.concatenate(y_train)  # shape: (50000,)\n",
        "\n",
        "    # Load test batch\n",
        "    X_test, y_test = load_CIFAR_batch(os.path.join(cifar10_dir, 'test_batch'))\n",
        "\n",
        "    return X_train, y_train, X_test, y_test\n"
      ],
      "metadata": {
        "id": "lK1M55uKzD49"
      },
      "execution_count": 26,
      "outputs": []
    },
    {
      "cell_type": "code",
      "source": [
        "from tensorflow.keras.datasets import cifar10"
      ],
      "metadata": {
        "id": "pf3qFvGc0jzR"
      },
      "execution_count": 27,
      "outputs": []
    },
    {
      "cell_type": "code",
      "source": [
        "def load_cifar10():\n",
        "  trainset = torchvision.datasets.CIFAR10(root='./data', train=True,\n",
        "                                            download=True, transform=transform)\n",
        "  print(trainset.shape())"
      ],
      "metadata": {
        "id": "0AWe_kRyssqO"
      },
      "execution_count": 28,
      "outputs": []
    },
    {
      "cell_type": "code",
      "source": [
        "# Loads CIFAR-10 and splits into training and testing sets\n",
        "(X_train, y_train), (X_test, y_test) = cifar10.load_data()\n",
        "\n",
        "\n",
        "print(X_train.shape, y_train.shape)\n",
        "print(X_test.shape, y_test.shape)"
      ],
      "metadata": {
        "id": "No9E-zKA0oXS",
        "outputId": "fb3632b9-9000-4e44-d9c5-05103b19b2f1",
        "colab": {
          "base_uri": "https://localhost:8080/",
          "height": 0
        }
      },
      "execution_count": 29,
      "outputs": [
        {
          "output_type": "stream",
          "name": "stdout",
          "text": [
            "Downloading data from https://www.cs.toronto.edu/~kriz/cifar-10-python.tar.gz\n",
            "\u001b[1m170498071/170498071\u001b[0m \u001b[32m━━━━━━━━━━━━━━━━━━━━\u001b[0m\u001b[37m\u001b[0m \u001b[1m4s\u001b[0m 0us/step\n",
            "(50000, 32, 32, 3) (50000, 1)\n",
            "(10000, 32, 32, 3) (10000, 1)\n"
          ]
        }
      ]
    },
    {
      "cell_type": "code",
      "source": [
        "# Mask so we use subset instead of all the data.\n",
        "# Subsample the data\n",
        "num_training=49000\n",
        "num_validation=1000\n",
        "num_test=1000\n",
        "\n",
        "\n",
        "mask = list(range(num_training, num_training + num_validation))\n",
        "X_val = X_train[mask]\n",
        "y_val = y_train[mask]\n",
        "mask = list(range(num_training))\n",
        "X_train = X_train[mask]\n",
        "y_train = y_train[mask]\n",
        "mask = list(range(num_test))\n",
        "X_test = X_test[mask]\n",
        "y_test = y_test[mask]\n",
        "\n",
        "print('Train data shape: ', X_train.shape)\n",
        "print('Train labels shape: ', y_train.shape)\n",
        "print('Validation data shape: ', X_val.shape)\n",
        "print('Validation labels shape: ', y_val.shape)\n",
        "print('Test data shape: ', X_test.shape)\n",
        "print('Test labels shape: ', y_test.shape)"
      ],
      "metadata": {
        "id": "ToL5FB_l01EA",
        "outputId": "816464b6-3973-4926-de34-eecf38284273",
        "colab": {
          "base_uri": "https://localhost:8080/",
          "height": 0
        }
      },
      "execution_count": 30,
      "outputs": [
        {
          "output_type": "stream",
          "name": "stdout",
          "text": [
            "Train data shape:  (49000, 32, 32, 3)\n",
            "Train labels shape:  (49000, 1)\n",
            "Validation data shape:  (1000, 32, 32, 3)\n",
            "Validation labels shape:  (1000, 1)\n",
            "Test data shape:  (1000, 32, 32, 3)\n",
            "Test labels shape:  (1000, 1)\n"
          ]
        }
      ]
    },
    {
      "cell_type": "code",
      "source": [
        "# Reshape into rows\n",
        "X_train = X_train.reshape(X_train.shape[0], -1)  # (50000, 3072)\n",
        "X_val = X_val.reshape(X_val.shape[0], -1)      # (10000, 3072)\n",
        "X_test = X_test.reshape(X_test.shape[0], -1)     # (10000, 3072)\n",
        "\n",
        "# Normalize\n",
        "X_train = X_train / 255.0\n",
        "X_test = X_test / 255.0\n",
        "\n",
        "print(X_train.shape)\n",
        "print(X_val.shape)\n",
        "print(X_test.shape)"
      ],
      "metadata": {
        "id": "z0646Ew05ESW",
        "outputId": "29b60ea0-fca5-44ed-8456-ce74accc1556",
        "colab": {
          "base_uri": "https://localhost:8080/",
          "height": 0
        }
      },
      "execution_count": 31,
      "outputs": [
        {
          "output_type": "stream",
          "name": "stdout",
          "text": [
            "(49000, 3072)\n",
            "(1000, 3072)\n",
            "(1000, 3072)\n"
          ]
        }
      ]
    },
    {
      "cell_type": "code",
      "source": [
        "# ONe hot encoding for the y values\n",
        "def one_hot(y, num_classes=10):\n",
        "    y = y.ravel()  # because y is already 2d array\n",
        "    one_hot_y = np.zeros((y.shape[0], num_classes))\n",
        "    print(one_hot_y.shape)\n",
        "    one_hot_y[np.arange(y.shape[0]), y] = 1\n",
        "    return one_hot_y\n",
        "\n",
        "print(y_train)\n",
        "print(y_train.shape)\n",
        "y_train_hot = one_hot(y_train)\n",
        "print(y_train_hot[0:3])\n",
        "\n",
        "# Dont need one hot for test and val\n",
        "#y_test_hot = one_hot(y_test)\n",
        "#y_val_hot = one_hot(y_val)\n",
        "#print(y_val_hot.shape)"
      ],
      "metadata": {
        "id": "puUqDKEd5anG",
        "outputId": "93d909ac-8b5b-4c2b-ba38-fe13cd8d99db",
        "colab": {
          "base_uri": "https://localhost:8080/",
          "height": 0
        }
      },
      "execution_count": 32,
      "outputs": [
        {
          "output_type": "stream",
          "name": "stdout",
          "text": [
            "[[6]\n",
            " [9]\n",
            " [9]\n",
            " ...\n",
            " [4]\n",
            " [9]\n",
            " [3]]\n",
            "(49000, 1)\n",
            "(49000, 10)\n",
            "[[0. 0. 0. 0. 0. 0. 1. 0. 0. 0.]\n",
            " [0. 0. 0. 0. 0. 0. 0. 0. 0. 1.]\n",
            " [0. 0. 0. 0. 0. 0. 0. 0. 0. 1.]]\n"
          ]
        }
      ]
    },
    {
      "cell_type": "markdown",
      "source": [
        "##Train Network"
      ],
      "metadata": {
        "id": "W6CjeSTK3Gzd"
      }
    },
    {
      "cell_type": "code",
      "source": [
        "# Predict function takes in params and calculates expected output\n",
        "def predict(X, params):\n",
        "    # Forward pass\n",
        "    Z1 = np.dot(X, params['W1']) + params['b1']\n",
        "    A1 = np.maximum(0, Z1)\n",
        "    Z2 = np.dot(A1, params['W2']) + params['b2']\n",
        "    probs = softmax(Z2)\n",
        "\n",
        "    # Choose the class with highest probability\n",
        "    y_pred = np.argmax(probs, axis=1)\n",
        "    print(y_pred.shape)\n",
        "    return y_pred"
      ],
      "metadata": {
        "id": "I7BJleEr71L0"
      },
      "execution_count": 33,
      "outputs": []
    },
    {
      "cell_type": "code",
      "source": [
        "\n",
        "# Initialize parameters.\n",
        "# Final dataset is 32x32 color images, so 32x32x3\n",
        "input_size = 32*32*3\n",
        "hidden_size = 100\n",
        "output_size = 10\n",
        "num_samples = 200\n",
        "\n",
        "# Go in batches of 200\n",
        "params = get_params()\n",
        "\n",
        "#Subsection 200 of the x train and x test dataset\n",
        "X = X_train[:200]\n",
        "y = y_train_hot[:200]\n",
        "error_traj = []\n",
        "\n",
        "# Train for 100 epochs\n",
        "for i in range(100):\n",
        "    loss, params = train_one_step(X, y, params, learning_rate=1e-4)\n",
        "    print(f\"Step {i+1}, Loss: {loss:.4f}\")\n",
        "    error_traj.append(loss)\n",
        "\n",
        "val_acc = (predict(X_val, params) == y_val).mean()\n",
        "print('Validation accuracy: ', val_acc)"
      ],
      "metadata": {
        "id": "Z8Appx-C3IfO",
        "outputId": "31c56499-39c1-4ba9-c37a-89af1437b74e",
        "colab": {
          "base_uri": "https://localhost:8080/",
          "height": 0
        }
      },
      "execution_count": 34,
      "outputs": [
        {
          "output_type": "stream",
          "name": "stdout",
          "text": [
            "Step 1, Loss: 2.3020\n",
            "Step 2, Loss: 2.3020\n",
            "Step 3, Loss: 2.3020\n",
            "Step 4, Loss: 2.3020\n",
            "Step 5, Loss: 2.3020\n",
            "Step 6, Loss: 2.3020\n",
            "Step 7, Loss: 2.3020\n",
            "Step 8, Loss: 2.3020\n",
            "Step 9, Loss: 2.3020\n",
            "Step 10, Loss: 2.3020\n",
            "Step 11, Loss: 2.3020\n",
            "Step 12, Loss: 2.3019\n",
            "Step 13, Loss: 2.3019\n",
            "Step 14, Loss: 2.3019\n",
            "Step 15, Loss: 2.3019\n",
            "Step 16, Loss: 2.3019\n",
            "Step 17, Loss: 2.3019\n",
            "Step 18, Loss: 2.3019\n",
            "Step 19, Loss: 2.3019\n",
            "Step 20, Loss: 2.3019\n",
            "Step 21, Loss: 2.3019\n",
            "Step 22, Loss: 2.3019\n",
            "Step 23, Loss: 2.3019\n",
            "Step 24, Loss: 2.3019\n",
            "Step 25, Loss: 2.3019\n",
            "Step 26, Loss: 2.3019\n",
            "Step 27, Loss: 2.3019\n",
            "Step 28, Loss: 2.3019\n",
            "Step 29, Loss: 2.3019\n",
            "Step 30, Loss: 2.3019\n",
            "Step 31, Loss: 2.3019\n",
            "Step 32, Loss: 2.3019\n",
            "Step 33, Loss: 2.3019\n",
            "Step 34, Loss: 2.3019\n",
            "Step 35, Loss: 2.3018\n",
            "Step 36, Loss: 2.3018\n",
            "Step 37, Loss: 2.3018\n",
            "Step 38, Loss: 2.3018\n",
            "Step 39, Loss: 2.3018\n",
            "Step 40, Loss: 2.3018\n",
            "Step 41, Loss: 2.3018\n",
            "Step 42, Loss: 2.3018\n",
            "Step 43, Loss: 2.3018\n",
            "Step 44, Loss: 2.3018\n",
            "Step 45, Loss: 2.3018\n",
            "Step 46, Loss: 2.3018\n",
            "Step 47, Loss: 2.3018\n",
            "Step 48, Loss: 2.3018\n",
            "Step 49, Loss: 2.3018\n",
            "Step 50, Loss: 2.3018\n",
            "Step 51, Loss: 2.3018\n",
            "Step 52, Loss: 2.3018\n",
            "Step 53, Loss: 2.3018\n",
            "Step 54, Loss: 2.3018\n",
            "Step 55, Loss: 2.3018\n",
            "Step 56, Loss: 2.3018\n",
            "Step 57, Loss: 2.3017\n",
            "Step 58, Loss: 2.3017\n",
            "Step 59, Loss: 2.3017\n",
            "Step 60, Loss: 2.3017\n",
            "Step 61, Loss: 2.3017\n",
            "Step 62, Loss: 2.3017\n",
            "Step 63, Loss: 2.3017\n",
            "Step 64, Loss: 2.3017\n",
            "Step 65, Loss: 2.3017\n",
            "Step 66, Loss: 2.3017\n",
            "Step 67, Loss: 2.3017\n",
            "Step 68, Loss: 2.3017\n",
            "Step 69, Loss: 2.3017\n",
            "Step 70, Loss: 2.3017\n",
            "Step 71, Loss: 2.3017\n",
            "Step 72, Loss: 2.3017\n",
            "Step 73, Loss: 2.3017\n",
            "Step 74, Loss: 2.3017\n",
            "Step 75, Loss: 2.3017\n",
            "Step 76, Loss: 2.3017\n",
            "Step 77, Loss: 2.3017\n",
            "Step 78, Loss: 2.3017\n",
            "Step 79, Loss: 2.3017\n",
            "Step 80, Loss: 2.3016\n",
            "Step 81, Loss: 2.3016\n",
            "Step 82, Loss: 2.3016\n",
            "Step 83, Loss: 2.3016\n",
            "Step 84, Loss: 2.3016\n",
            "Step 85, Loss: 2.3016\n",
            "Step 86, Loss: 2.3016\n",
            "Step 87, Loss: 2.3016\n",
            "Step 88, Loss: 2.3016\n",
            "Step 89, Loss: 2.3016\n",
            "Step 90, Loss: 2.3016\n",
            "Step 91, Loss: 2.3016\n",
            "Step 92, Loss: 2.3016\n",
            "Step 93, Loss: 2.3016\n",
            "Step 94, Loss: 2.3016\n",
            "Step 95, Loss: 2.3016\n",
            "Step 96, Loss: 2.3016\n",
            "Step 97, Loss: 2.3016\n",
            "Step 98, Loss: 2.3016\n",
            "Step 99, Loss: 2.3016\n",
            "Step 100, Loss: 2.3016\n",
            "(1000,)\n",
            "Validation accuracy:  0.099062\n"
          ]
        }
      ]
    },
    {
      "cell_type": "code",
      "source": [
        "# Plot the loss vs epoch\n",
        "plt.plot(error_traj)\n",
        "plt.xlabel('Epoch')\n",
        "plt.ylabel('Error')\n",
        "plt.title('Training of Demo Regression model');\n",
        "ax = plt.gca()\n",
        "ax.set_ylim([2, 2.5])"
      ],
      "metadata": {
        "id": "a_XfdpFNPjeQ",
        "outputId": "0c4c700f-d6f7-4df6-8475-7ea62024b58b",
        "colab": {
          "base_uri": "https://localhost:8080/",
          "height": 489
        }
      },
      "execution_count": 35,
      "outputs": [
        {
          "output_type": "execute_result",
          "data": {
            "text/plain": [
              "(2.0, 2.5)"
            ]
          },
          "metadata": {},
          "execution_count": 35
        },
        {
          "output_type": "display_data",
          "data": {
            "text/plain": [
              "<Figure size 640x480 with 1 Axes>"
            ],
            "image/png": "[encoded data removed]"
          },
          "metadata": {}
        }
      ]
    },
    {
      "cell_type": "markdown",
      "source": [
        "##Tuning HyperParameters"
      ],
      "metadata": {
        "id": "S7-6KNTI-3da"
      }
    },
    {
      "cell_type": "code",
      "source": [
        "# # Try with more and more training data\n",
        "# # Go in batches of 200\n",
        "# params_tuning = get_params()\n",
        "\n",
        "# for size in [100, 200, 300, 400, 500, 600, 700, 800, 900, 1000, 2000, 5000, 10000]:\n",
        "#   #Subsection 200 of the x train and x test dataset\n",
        "#   X = X_train[:size]\n",
        "#   y = y_train_hot[:size]\n",
        "\n",
        "#   # Train for 100 epochs\n",
        "#   for i in range(100):\n",
        "#       loss, params_tuning = train_one_step(X, y, params_tuning, learning_rate=1e-4)\n",
        "#       #print(f\"Step {i+1}, Loss: {loss:.4f}\")\n",
        "\n",
        "#   val_acc = (predict(X_val, params) == y_val).mean()\n",
        "#   print('Validation accuracy: ', val_acc)"
      ],
      "metadata": {
        "id": "VYVmqXrI-8lC"
      },
      "execution_count": 36,
      "outputs": []
    },
    {
      "cell_type": "code",
      "source": [
        "# # Will now experiment with different learning rates and number of epochs\n",
        "# params_tuning = get_params()\n",
        "\n",
        "# for learning_rate in [1e-4, 1e-3, 1e-2, 1e-1, 2e-1, 5e-1]:\n",
        "#   for epochs in [100, 200, 500, 1000, 5000]:\n",
        "#     #Subsection 500 of the x train and x test dataset\n",
        "#     X = X_train[:500]\n",
        "#     y = y_train_hot[:500]\n",
        "\n",
        "#     # Train for 100 epochs\n",
        "#     for i in range(epochs):\n",
        "#         loss, params_tuning = train_one_step(X, y, params_tuning, learning_rate)\n",
        "#         #print(f\"Step {i+1}, Loss: {loss:.4f}\")\n",
        "\n",
        "#     val_acc = (predict(X_val, params) == y_val).mean()\n",
        "#     print(\"LR: \", learning_rate)\n",
        "#     print(\"Epochs: \", epochs)\n",
        "#     print('Validation accuracy: ', val_acc)"
      ],
      "metadata": {
        "id": "3Ib7qUe2_8LD"
      },
      "execution_count": 37,
      "outputs": []
    },
    {
      "cell_type": "code",
      "source": [
        "test_acc = (predict(X_test, params_tuning) == y_test).mean()\n",
        "print('Test accuracy: ', test_acc)"
      ],
      "metadata": {
        "id": "SkdhOMaV-3kE",
        "outputId": "336d6c06-7ad0-454a-bc83-28084139488d",
        "colab": {
          "base_uri": "https://localhost:8080/",
          "height": 159
        }
      },
      "execution_count": 38,
      "outputs": [
        {
          "output_type": "error",
          "ename": "NameError",
          "evalue": "name 'params_tuning' is not defined",
          "traceback": [
            "\u001b[0;31m---------------------------------------------------------------------------\u001b[0m",
            "\u001b[0;31mNameError\u001b[0m                                 Traceback (most recent call last)",
            "\u001b[0;32m<ipython-input-38-c86e8941c2ab>\u001b[0m in \u001b[0;36m<cell line: 0>\u001b[0;34m()\u001b[0m\n\u001b[0;32m----> 1\u001b[0;31m \u001b[0mtest_acc\u001b[0m \u001b[0;34m=\u001b[0m \u001b[0;34m(\u001b[0m\u001b[0mpredict\u001b[0m\u001b[0;34m(\u001b[0m\u001b[0mX_test\u001b[0m\u001b[0;34m,\u001b[0m \u001b[0mparams_tuning\u001b[0m\u001b[0;34m)\u001b[0m \u001b[0;34m==\u001b[0m \u001b[0my_test\u001b[0m\u001b[0;34m)\u001b[0m\u001b[0;34m.\u001b[0m\u001b[0mmean\u001b[0m\u001b[0;34m(\u001b[0m\u001b[0;34m)\u001b[0m\u001b[0;34m\u001b[0m\u001b[0;34m\u001b[0m\u001b[0m\n\u001b[0m\u001b[1;32m      2\u001b[0m \u001b[0mprint\u001b[0m\u001b[0;34m(\u001b[0m\u001b[0;34m'Test accuracy: '\u001b[0m\u001b[0;34m,\u001b[0m \u001b[0mtest_acc\u001b[0m\u001b[0;34m)\u001b[0m\u001b[0;34m\u001b[0m\u001b[0;34m\u001b[0m\u001b[0m\n",
            "\u001b[0;31mNameError\u001b[0m: name 'params_tuning' is not defined"
          ]
        }
      ]
    },
    {
      "cell_type": "markdown",
      "source": [
        "Conclusion: I tried adjusting the learning rate, the number of epochs, and the sie of the training data to try to acheive better results and better accuracy of the training model."
      ],
      "metadata": {
        "id": "Eip7bAXNP8wj"
      }
    },
    {
      "cell_type": "markdown",
      "source": [
        "#Assignment Week 10"
      ],
      "metadata": {
        "id": "_gkOq3td5RlG"
      }
    },
    {
      "cell_type": "markdown",
      "source": [
        "This is the homework assignment for week 10."
      ],
      "metadata": {
        "id": "gVDo1xf9S7DC"
      }
    },
    {
      "cell_type": "code",
      "source": [
        "import torch\n",
        "import torch.nn as nn\n",
        "import torch.optim as optim\n",
        "from torch.utils.data import TensorDataset, DataLoader\n",
        "import numpy as np\n",
        "from torch.optim import SGD"
      ],
      "metadata": {
        "id": "kOLubg_Gg5Ee"
      },
      "execution_count": 77,
      "outputs": []
    },
    {
      "cell_type": "code",
      "source": [
        "class bmodel(nn.Module):\n",
        "    def __init__(self, input_size, hidden_size, output_size):\n",
        "        super(bmodel, self).__init__()\n",
        "        self.fc1 = nn.Linear(input_size, hidden_size)  # First layer\n",
        "        self.relu = nn.ReLU()                          # Activation\n",
        "        self.fc2 = nn.Linear(hidden_size, output_size) # Output layer\n",
        "\n",
        "    def forward(self, x):\n",
        "        x = self.fc1(x)\n",
        "        x = self.relu(x)\n",
        "        x = self.fc2(x)  # No softmax, CrossEntropyLoss handles that\n",
        "        return x"
      ],
      "metadata": {
        "id": "I4yb8O3tg_g5"
      },
      "execution_count": 78,
      "outputs": []
    },
    {
      "cell_type": "markdown",
      "source": [
        "Now load the data from CIFAR 10"
      ],
      "metadata": {
        "id": "YehIs37chZGi"
      }
    },
    {
      "cell_type": "code",
      "source": [
        "import pickle\n",
        "import numpy as np\n",
        "import os\n",
        "\n",
        "def load_CIFAR_batch(filename):\n",
        "    \"\"\"Load a single batch of CIFAR-10.\"\"\"\n",
        "    with open(filename, 'rb') as f:\n",
        "        dict = pickle.load(f, encoding='bytes')\n",
        "        X = dict[b'data']  # shape: (10000, 3072)\n",
        "        Y = dict[b'labels']\n",
        "        X = X.reshape(10000, 3, 32, 32).astype(\"float\")\n",
        "        Y = np.array(Y)\n",
        "        return X, Y\n",
        "\n",
        "def load_CIFAR10(cifar10_dir):\n",
        "    \"\"\"Load all batches of CIFAR-10.\"\"\"\n",
        "    X_train = []\n",
        "    y_train = []\n",
        "\n",
        "    # Load all training batches\n",
        "    for i in range(1, 6):\n",
        "        f = os.path.join(cifar10_dir, f'data_batch_{i}')\n",
        "        X, Y = load_CIFAR_batch(f)\n",
        "        X_train.append(X)\n",
        "        y_train.append(Y)\n",
        "\n",
        "    X_train = np.concatenate(X_train)  # shape: (50000, 3, 32, 32)\n",
        "    y_train = np.concatenate(y_train)  # shape: (50000,)\n",
        "\n",
        "    # Load test batch\n",
        "    X_test, y_test = load_CIFAR_batch(os.path.join(cifar10_dir, 'test_batch'))\n",
        "\n",
        "    return X_train, y_train, X_test, y_test\n"
      ],
      "metadata": {
        "id": "QJ25GmzUhbK1"
      },
      "execution_count": 79,
      "outputs": []
    },
    {
      "cell_type": "code",
      "source": [
        "from tensorflow.keras.datasets import cifar10"
      ],
      "metadata": {
        "id": "S10xqC-Ehfzb"
      },
      "execution_count": 80,
      "outputs": []
    },
    {
      "cell_type": "code",
      "source": [
        "def load_cifar10():\n",
        "  trainset = torchvision.datasets.CIFAR10(root='./data', train=True,\n",
        "                                            download=True, transform=transform)\n",
        "  print(trainset.shape())"
      ],
      "metadata": {
        "id": "FHCCncJWhgUy"
      },
      "execution_count": 81,
      "outputs": []
    },
    {
      "cell_type": "code",
      "source": [
        "# Loads CIFAR-10 and splits into training and testing sets\n",
        "(X_train, y_train), (X_test, y_test) = cifar10.load_data()\n",
        "\n",
        "\n",
        "print(X_train.shape, y_train.shape)\n",
        "print(X_test.shape, y_test.shape)"
      ],
      "metadata": {
        "id": "kfk0z7oVhk8z",
        "outputId": "64bfef80-b73a-43c1-d391-60ce201536ce",
        "colab": {
          "base_uri": "https://localhost:8080/",
          "height": 0
        }
      },
      "execution_count": 82,
      "outputs": [
        {
          "output_type": "stream",
          "name": "stdout",
          "text": [
            "(50000, 32, 32, 3) (50000, 1)\n",
            "(10000, 32, 32, 3) (10000, 1)\n"
          ]
        }
      ]
    },
    {
      "cell_type": "code",
      "source": [
        "# Mask so we use subset instead of all the data.\n",
        "# Subsample the data\n",
        "num_training=49000\n",
        "num_validation=1000\n",
        "num_test=1000\n",
        "\n",
        "\n",
        "mask = list(range(num_training, num_training + num_validation))\n",
        "X_val = X_train[mask]\n",
        "y_val = y_train[mask]\n",
        "mask = list(range(num_training))\n",
        "X_train = X_train[mask]\n",
        "y_train = y_train[mask]\n",
        "mask = list(range(num_test))\n",
        "X_test = X_test[mask]\n",
        "y_test = y_test[mask]\n",
        "\n",
        "print('Train data shape: ', X_train.shape)\n",
        "print('Train labels shape: ', y_train.shape)\n",
        "print('Validation data shape: ', X_val.shape)\n",
        "print('Validation labels shape: ', y_val.shape)\n",
        "print('Test data shape: ', X_test.shape)\n",
        "print('Test labels shape: ', y_test.shape)"
      ],
      "metadata": {
        "id": "xLFR3Ok1iT_X",
        "outputId": "a834293c-0beb-4167-f25b-6ad5cdafbb46",
        "colab": {
          "base_uri": "https://localhost:8080/",
          "height": 0
        }
      },
      "execution_count": 83,
      "outputs": [
        {
          "output_type": "stream",
          "name": "stdout",
          "text": [
            "Train data shape:  (49000, 32, 32, 3)\n",
            "Train labels shape:  (49000, 1)\n",
            "Validation data shape:  (1000, 32, 32, 3)\n",
            "Validation labels shape:  (1000, 1)\n",
            "Test data shape:  (1000, 32, 32, 3)\n",
            "Test labels shape:  (1000, 1)\n"
          ]
        }
      ]
    },
    {
      "cell_type": "code",
      "source": [
        "# Reshape into rows\n",
        "X_train = X_train.reshape(X_train.shape[0], -1)  # (50000, 3072)\n",
        "X_val = X_val.reshape(X_val.shape[0], -1)      # (10000, 3072)\n",
        "X_test = X_test.reshape(X_test.shape[0], -1)     # (10000, 3072)\n",
        "\n",
        "# Normalize\n",
        "X_train = X_train / 255.0\n",
        "X_test = X_test / 255.0\n",
        "\n",
        "print(X_train.shape)\n",
        "print(X_val.shape)\n",
        "print(X_test.shape)"
      ],
      "metadata": {
        "id": "gEQrEJ5XiYTB",
        "outputId": "281d405a-9090-4e0d-a760-d4d2607d395b",
        "colab": {
          "base_uri": "https://localhost:8080/",
          "height": 0
        }
      },
      "execution_count": 84,
      "outputs": [
        {
          "output_type": "stream",
          "name": "stdout",
          "text": [
            "(49000, 3072)\n",
            "(1000, 3072)\n",
            "(1000, 3072)\n"
          ]
        }
      ]
    },
    {
      "cell_type": "code",
      "source": [
        "# ONe hot encoding for the y values\n",
        "def one_hot(y, num_classes=10):\n",
        "    y = y.ravel()  # because y is already 2d array\n",
        "    one_hot_y = np.zeros((y.shape[0], num_classes))\n",
        "    print(one_hot_y.shape)\n",
        "    one_hot_y[np.arange(y.shape[0]), y] = 1\n",
        "    return one_hot_y\n",
        "\n",
        "print(y_train)\n",
        "print(y_train.shape)\n",
        "y_train_hot = one_hot(y_train)\n",
        "print(y_train_hot[0:3])\n",
        "\n",
        "# Dont need one hot for test and val\n",
        "#y_test_hot = one_hot(y_test)\n",
        "#y_val_hot = one_hot(y_val)\n",
        "#print(y_val_hot.shape)"
      ],
      "metadata": {
        "id": "YHf97fBwic-a",
        "outputId": "0d3964b7-8668-43bb-ad69-da90d8045395",
        "colab": {
          "base_uri": "https://localhost:8080/",
          "height": 0
        }
      },
      "execution_count": 85,
      "outputs": [
        {
          "output_type": "stream",
          "name": "stdout",
          "text": [
            "[[6]\n",
            " [9]\n",
            " [9]\n",
            " ...\n",
            " [4]\n",
            " [9]\n",
            " [3]]\n",
            "(49000, 1)\n",
            "(49000, 10)\n",
            "[[0. 0. 0. 0. 0. 0. 1. 0. 0. 0.]\n",
            " [0. 0. 0. 0. 0. 0. 0. 0. 0. 1.]\n",
            " [0. 0. 0. 0. 0. 0. 0. 0. 0. 1.]]\n"
          ]
        }
      ]
    },
    {
      "cell_type": "markdown",
      "source": [
        "Run the data on the toy model"
      ],
      "metadata": {
        "id": "Ps4TUsbI07ai"
      }
    },
    {
      "cell_type": "code",
      "source": [
        "# Initialize toy data\n",
        "def init_toy_data(input_size, output_size, num_samples):\n",
        "  np.random.seed(1)\n",
        "  # 100 total data points with size input_size\n",
        "  X = np.random.randn(num_samples, input_size)\n",
        "  # y is one hot encoding so one of the output_size values will be 1, rest will be 0.\n",
        "  # Random integer labels from 0 to output_size - 1\n",
        "  y_indices = np.random.randint(0, output_size, size=num_samples)\n",
        "  # One-hot encode the labels\n",
        "  y = np.zeros((num_samples, output_size))\n",
        "  y[np.arange(num_samples), y_indices] = 1\n",
        "  return X, y"
      ],
      "metadata": {
        "id": "DpfD_01Q4vZx"
      },
      "execution_count": 86,
      "outputs": []
    },
    {
      "cell_type": "code",
      "source": [
        "toy_inputs, toy_labels = init_toy_data(3072, 10, 200)\n",
        "toy_inputs = torch.tensor(toy_inputs, dtype=torch.float32)\n",
        "toy_labels = torch.tensor(toy_labels, dtype=torch.float32)\n",
        "print(toy_inputs.shape)\n",
        "print(toy_labels.shape)\n",
        "\n",
        "\n",
        "model = bmodel(3072, 100, 10)\n",
        "\n",
        "optimizer = SGD(model.parameters(), lr=0.05)\n",
        "criterion = nn.BCEWithLogitsLoss()\n",
        "\n",
        "previous_total_loss = 0\n",
        "error_traj = []\n",
        "for epoch in range(100):\n",
        "\n",
        "    total_loss = 0\n",
        "\n",
        "    # going through my inputs\n",
        "    for iteration in range(len(toy_inputs)):\n",
        "\n",
        "        input_i = toy_inputs[iteration]  # xi\n",
        "        label_i = toy_labels[iteration]  # yi\n",
        "\n",
        "        # 1 - forward pass\n",
        "        output_i = model.forward(input_i) ## calculate the neural network output for one input\n",
        "\n",
        "        # 2 - compute loss\n",
        "        loss = criterion(output_i.squeeze(), label_i)\n",
        "\n",
        "        # 3 - backprop\n",
        "        loss.backward() # calculates the gradient for a single value and adds it to the previous one\n",
        "\n",
        "        total_loss += float(loss.item()) # add the total loss for this epoch.\n",
        "\n",
        "    # early stopping\n",
        "    if (total_loss < 0.5):\n",
        "        print(\"Epoch #\" + str(epoch))\n",
        "        break\n",
        "\n",
        "    optimizer.step() # update the parameters\n",
        "    optimizer.zero_grad() # zero out the previous gradient\n",
        "\n",
        "\n",
        "    print(\"Total loss: \" + str(total_loss))\n",
        "    error_traj.append(total_loss)"
      ],
      "metadata": {
        "id": "cAf_pF_k0LAW",
        "outputId": "824fceb4-a356-46b8-9f32-b5be6b293e87",
        "colab": {
          "base_uri": "https://localhost:8080/",
          "height": 0
        }
      },
      "execution_count": 87,
      "outputs": [
        {
          "output_type": "stream",
          "name": "stdout",
          "text": [
            "torch.Size([200, 3072])\n",
            "torch.Size([200, 10])\n",
            "Total loss: 133.58104395866394\n",
            "Total loss: 75.60113216936588\n",
            "Total loss: 47.875295892357826\n",
            "Total loss: 8.403675069566816\n",
            "Total loss: 2.3906658596824855\n",
            "Total loss: 1.5925697477068752\n",
            "Total loss: 1.225975815556012\n",
            "Total loss: 0.9961226449813694\n",
            "Total loss: 0.8372240997850895\n",
            "Total loss: 0.7198083479888737\n",
            "Total loss: 0.6300964892143384\n",
            "Total loss: 0.5593708557425998\n",
            "Total loss: 0.5021646257955581\n",
            "Epoch #13\n"
          ]
        }
      ]
    },
    {
      "cell_type": "code",
      "source": [
        "# Plot the loss vs epoch\n",
        "plt.plot(error_traj)\n",
        "plt.xlabel('Epoch')\n",
        "plt.ylabel('Error')\n",
        "plt.title('Training of Demo Regression model');"
      ],
      "metadata": {
        "id": "ABcdZ2Mi5iCu",
        "outputId": "8033ae20-214a-42dc-ff43-f24afcbfbc49",
        "colab": {
          "base_uri": "https://localhost:8080/",
          "height": 472
        }
      },
      "execution_count": 88,
      "outputs": [
        {
          "output_type": "display_data",
          "data": {
            "text/plain": [
              "<Figure size 640x480 with 1 Axes>"
            ],
            "image/png": "[encoded data removed]"
          },
          "metadata": {}
        }
      ]
    },
    {
      "cell_type": "markdown",
      "source": [
        "Now use the CIFAR real data."
      ],
      "metadata": {
        "id": "qBPIIrfv5-97"
      }
    },
    {
      "cell_type": "code",
      "source": [
        "learning_rate = 0.05\n",
        "#Subsection 500 of the x train and x test dataset\n",
        "# Dont need one hot for y\n",
        "X = X_train[:500]\n",
        "Y = y_train[:500]\n",
        "\n",
        "print(Y)\n",
        "\n",
        "X = torch.tensor(X, dtype=torch.float32)\n",
        "Y = torch.tensor(Y, dtype=torch.long)\n",
        "\n",
        "model = bmodel(3072, 100, 10)\n",
        "\n",
        "optimizer = SGD(model.parameters(), lr=learning_rate)\n",
        "criterion = nn.CrossEntropyLoss()\n",
        "\n",
        "previous_total_loss = 0\n",
        "error_traj = []\n",
        "for epoch in range(100):\n",
        "\n",
        "    total_loss = 0\n",
        "\n",
        "    # going through my inputs\n",
        "    for iteration in range(len(X)):\n",
        "\n",
        "        input_i = X[iteration]  # xi\n",
        "        label_i = Y[iteration][0]  # yi\n",
        "\n",
        "        # 1 - forward pass\n",
        "        output_i = model.forward(input_i) ## calculate the neural network output for one input\n",
        "\n",
        "        # 2 - compute loss\n",
        "        loss = criterion(output_i.squeeze(), label_i)\n",
        "\n",
        "        # 3 - backprop\n",
        "        loss.backward() # calculates the gradient for a single value and adds it to the previous one\n",
        "\n",
        "        total_loss += float(loss.item()) # add the total loss for this epoch.\n",
        "\n",
        "    # early stopping\n",
        "    if (total_loss < 0.5):\n",
        "        print(\"Epoch #\" + str(epoch))\n",
        "        break\n",
        "\n",
        "    optimizer.step() # update the parameters\n",
        "    optimizer.zero_grad() # zero out the previous gradient\n",
        "\n",
        "\n",
        "    print(\"Total loss: \" + str(total_loss))\n",
        "    error_traj.append(total_loss)"
      ],
      "metadata": {
        "id": "bxIJnRhj5-I0",
        "outputId": "d2b97969-3d30-47a7-8d07-b789d12b8bf8",
        "colab": {
          "base_uri": "https://localhost:8080/",
          "height": 0
        }
      },
      "execution_count": 89,
      "outputs": [
        {
          "output_type": "stream",
          "name": "stdout",
          "text": [
            "[[6]\n",
            " [9]\n",
            " [9]\n",
            " [4]\n",
            " [1]\n",
            " [1]\n",
            " [2]\n",
            " [7]\n",
            " [8]\n",
            " [3]\n",
            " [4]\n",
            " [7]\n",
            " [7]\n",
            " [2]\n",
            " [9]\n",
            " [9]\n",
            " [9]\n",
            " [3]\n",
            " [2]\n",
            " [6]\n",
            " [4]\n",
            " [3]\n",
            " [6]\n",
            " [6]\n",
            " [2]\n",
            " [6]\n",
            " [3]\n",
            " [5]\n",
            " [4]\n",
            " [0]\n",
            " [0]\n",
            " [9]\n",
            " [1]\n",
            " [3]\n",
            " [4]\n",
            " [0]\n",
            " [3]\n",
            " [7]\n",
            " [3]\n",
            " [3]\n",
            " [5]\n",
            " [2]\n",
            " [2]\n",
            " [7]\n",
            " [1]\n",
            " [1]\n",
            " [1]\n",
            " [2]\n",
            " [2]\n",
            " [0]\n",
            " [9]\n",
            " [5]\n",
            " [7]\n",
            " [9]\n",
            " [2]\n",
            " [2]\n",
            " [5]\n",
            " [2]\n",
            " [4]\n",
            " [3]\n",
            " [1]\n",
            " [1]\n",
            " [8]\n",
            " [2]\n",
            " [1]\n",
            " [1]\n",
            " [4]\n",
            " [9]\n",
            " [7]\n",
            " [8]\n",
            " [5]\n",
            " [9]\n",
            " [6]\n",
            " [7]\n",
            " [3]\n",
            " [1]\n",
            " [9]\n",
            " [0]\n",
            " [3]\n",
            " [1]\n",
            " [3]\n",
            " [5]\n",
            " [4]\n",
            " [5]\n",
            " [7]\n",
            " [7]\n",
            " [4]\n",
            " [7]\n",
            " [9]\n",
            " [4]\n",
            " [2]\n",
            " [3]\n",
            " [8]\n",
            " [0]\n",
            " [1]\n",
            " [6]\n",
            " [1]\n",
            " [1]\n",
            " [4]\n",
            " [1]\n",
            " [8]\n",
            " [3]\n",
            " [9]\n",
            " [6]\n",
            " [6]\n",
            " [1]\n",
            " [8]\n",
            " [5]\n",
            " [2]\n",
            " [9]\n",
            " [9]\n",
            " [8]\n",
            " [1]\n",
            " [7]\n",
            " [7]\n",
            " [0]\n",
            " [0]\n",
            " [6]\n",
            " [9]\n",
            " [1]\n",
            " [2]\n",
            " [2]\n",
            " [9]\n",
            " [2]\n",
            " [6]\n",
            " [6]\n",
            " [1]\n",
            " [9]\n",
            " [5]\n",
            " [0]\n",
            " [4]\n",
            " [7]\n",
            " [6]\n",
            " [7]\n",
            " [1]\n",
            " [8]\n",
            " [1]\n",
            " [1]\n",
            " [2]\n",
            " [8]\n",
            " [1]\n",
            " [3]\n",
            " [3]\n",
            " [6]\n",
            " [2]\n",
            " [4]\n",
            " [9]\n",
            " [9]\n",
            " [5]\n",
            " [4]\n",
            " [3]\n",
            " [6]\n",
            " [7]\n",
            " [4]\n",
            " [6]\n",
            " [8]\n",
            " [5]\n",
            " [5]\n",
            " [4]\n",
            " [3]\n",
            " [1]\n",
            " [8]\n",
            " [4]\n",
            " [7]\n",
            " [6]\n",
            " [0]\n",
            " [9]\n",
            " [5]\n",
            " [1]\n",
            " [3]\n",
            " [8]\n",
            " [2]\n",
            " [7]\n",
            " [5]\n",
            " [3]\n",
            " [4]\n",
            " [1]\n",
            " [5]\n",
            " [7]\n",
            " [0]\n",
            " [4]\n",
            " [7]\n",
            " [5]\n",
            " [5]\n",
            " [1]\n",
            " [0]\n",
            " [9]\n",
            " [6]\n",
            " [9]\n",
            " [0]\n",
            " [8]\n",
            " [7]\n",
            " [8]\n",
            " [8]\n",
            " [2]\n",
            " [5]\n",
            " [2]\n",
            " [3]\n",
            " [5]\n",
            " [0]\n",
            " [6]\n",
            " [1]\n",
            " [9]\n",
            " [3]\n",
            " [6]\n",
            " [9]\n",
            " [1]\n",
            " [3]\n",
            " [9]\n",
            " [6]\n",
            " [6]\n",
            " [7]\n",
            " [1]\n",
            " [0]\n",
            " [9]\n",
            " [5]\n",
            " [8]\n",
            " [5]\n",
            " [2]\n",
            " [9]\n",
            " [0]\n",
            " [8]\n",
            " [8]\n",
            " [0]\n",
            " [6]\n",
            " [9]\n",
            " [1]\n",
            " [1]\n",
            " [6]\n",
            " [3]\n",
            " [7]\n",
            " [6]\n",
            " [6]\n",
            " [0]\n",
            " [6]\n",
            " [6]\n",
            " [1]\n",
            " [7]\n",
            " [1]\n",
            " [5]\n",
            " [8]\n",
            " [3]\n",
            " [6]\n",
            " [6]\n",
            " [8]\n",
            " [6]\n",
            " [8]\n",
            " [4]\n",
            " [6]\n",
            " [6]\n",
            " [1]\n",
            " [3]\n",
            " [8]\n",
            " [3]\n",
            " [4]\n",
            " [1]\n",
            " [7]\n",
            " [1]\n",
            " [3]\n",
            " [8]\n",
            " [5]\n",
            " [1]\n",
            " [1]\n",
            " [4]\n",
            " [0]\n",
            " [9]\n",
            " [3]\n",
            " [7]\n",
            " [4]\n",
            " [9]\n",
            " [9]\n",
            " [2]\n",
            " [4]\n",
            " [9]\n",
            " [9]\n",
            " [1]\n",
            " [0]\n",
            " [5]\n",
            " [9]\n",
            " [0]\n",
            " [8]\n",
            " [2]\n",
            " [1]\n",
            " [2]\n",
            " [0]\n",
            " [5]\n",
            " [6]\n",
            " [3]\n",
            " [2]\n",
            " [7]\n",
            " [8]\n",
            " [8]\n",
            " [6]\n",
            " [0]\n",
            " [7]\n",
            " [9]\n",
            " [4]\n",
            " [5]\n",
            " [6]\n",
            " [4]\n",
            " [2]\n",
            " [1]\n",
            " [1]\n",
            " [2]\n",
            " [1]\n",
            " [5]\n",
            " [9]\n",
            " [9]\n",
            " [0]\n",
            " [8]\n",
            " [4]\n",
            " [1]\n",
            " [1]\n",
            " [6]\n",
            " [3]\n",
            " [3]\n",
            " [9]\n",
            " [0]\n",
            " [7]\n",
            " [9]\n",
            " [7]\n",
            " [7]\n",
            " [9]\n",
            " [1]\n",
            " [5]\n",
            " [1]\n",
            " [6]\n",
            " [6]\n",
            " [8]\n",
            " [7]\n",
            " [1]\n",
            " [3]\n",
            " [0]\n",
            " [3]\n",
            " [3]\n",
            " [2]\n",
            " [4]\n",
            " [5]\n",
            " [7]\n",
            " [5]\n",
            " [9]\n",
            " [0]\n",
            " [3]\n",
            " [4]\n",
            " [0]\n",
            " [4]\n",
            " [4]\n",
            " [6]\n",
            " [0]\n",
            " [0]\n",
            " [6]\n",
            " [6]\n",
            " [0]\n",
            " [8]\n",
            " [1]\n",
            " [6]\n",
            " [2]\n",
            " [9]\n",
            " [2]\n",
            " [5]\n",
            " [9]\n",
            " [6]\n",
            " [7]\n",
            " [4]\n",
            " [1]\n",
            " [8]\n",
            " [7]\n",
            " [3]\n",
            " [6]\n",
            " [9]\n",
            " [3]\n",
            " [0]\n",
            " [4]\n",
            " [0]\n",
            " [5]\n",
            " [1]\n",
            " [0]\n",
            " [3]\n",
            " [4]\n",
            " [8]\n",
            " [5]\n",
            " [4]\n",
            " [7]\n",
            " [2]\n",
            " [3]\n",
            " [9]\n",
            " [7]\n",
            " [6]\n",
            " [7]\n",
            " [1]\n",
            " [4]\n",
            " [7]\n",
            " [0]\n",
            " [1]\n",
            " [7]\n",
            " [3]\n",
            " [1]\n",
            " [8]\n",
            " [4]\n",
            " [4]\n",
            " [2]\n",
            " [0]\n",
            " [2]\n",
            " [2]\n",
            " [0]\n",
            " [0]\n",
            " [9]\n",
            " [0]\n",
            " [9]\n",
            " [6]\n",
            " [8]\n",
            " [2]\n",
            " [7]\n",
            " [7]\n",
            " [4]\n",
            " [0]\n",
            " [3]\n",
            " [0]\n",
            " [8]\n",
            " [9]\n",
            " [4]\n",
            " [2]\n",
            " [7]\n",
            " [2]\n",
            " [5]\n",
            " [2]\n",
            " [5]\n",
            " [1]\n",
            " [9]\n",
            " [4]\n",
            " [8]\n",
            " [5]\n",
            " [1]\n",
            " [7]\n",
            " [4]\n",
            " [4]\n",
            " [0]\n",
            " [6]\n",
            " [9]\n",
            " [0]\n",
            " [7]\n",
            " [8]\n",
            " [8]\n",
            " [9]\n",
            " [9]\n",
            " [3]\n",
            " [3]\n",
            " [4]\n",
            " [0]\n",
            " [4]\n",
            " [5]\n",
            " [6]\n",
            " [6]\n",
            " [0]\n",
            " [1]\n",
            " [0]\n",
            " [8]\n",
            " [0]\n",
            " [4]\n",
            " [8]\n",
            " [8]\n",
            " [1]\n",
            " [5]\n",
            " [2]\n",
            " [6]\n",
            " [8]\n",
            " [1]\n",
            " [0]\n",
            " [0]\n",
            " [7]\n",
            " [7]\n",
            " [5]\n",
            " [9]\n",
            " [6]\n",
            " [2]\n",
            " [8]\n",
            " [3]\n",
            " [4]\n",
            " [7]\n",
            " [3]\n",
            " [9]\n",
            " [0]\n",
            " [1]\n",
            " [2]\n",
            " [4]\n",
            " [8]\n",
            " [1]\n",
            " [8]\n",
            " [6]\n",
            " [4]\n",
            " [4]\n",
            " [5]\n",
            " [7]\n",
            " [1]\n",
            " [3]\n",
            " [9]\n",
            " [8]\n",
            " [0]\n",
            " [1]\n",
            " [7]]\n",
            "Total loss: 1150.3507747650146\n",
            "Total loss: 86290.6329498291\n",
            "Total loss: 369106377.7109375\n",
            "Total loss: 3882.8165514469147\n",
            "Total loss: 3528.2887144088745\n",
            "Total loss: 869391.3020629883\n",
            "Total loss: 4527.953521966934\n",
            "Total loss: 4139.992922663689\n",
            "Total loss: 3617.216499567032\n",
            "Total loss: 3269.0674674510956\n",
            "Total loss: 2969.973920941353\n",
            "Total loss: 2736.4150857925415\n",
            "Total loss: 2536.0149360895157\n",
            "Total loss: 2248.56067609787\n",
            "Total loss: 2188.43712747097\n",
            "Total loss: 1982.679601430893\n",
            "Total loss: 1770.7775163650513\n",
            "Total loss: 1568.8059418201447\n",
            "Total loss: 1449.9267979860306\n",
            "Total loss: 1360.7097622156143\n",
            "Total loss: 1486.7894097566605\n",
            "Total loss: 1307.7815973758698\n",
            "Total loss: 1365.6109120845795\n",
            "Total loss: 1256.59503865242\n",
            "Total loss: 1301.5600364208221\n",
            "Total loss: 1321.045573234558\n",
            "Total loss: 1228.2627354860306\n",
            "Total loss: 1294.689523100853\n",
            "Total loss: 1252.81947183609\n",
            "Total loss: 1398.7020316123962\n",
            "Total loss: 1208.4008522033691\n",
            "Total loss: 1272.8705748319626\n",
            "Total loss: 1307.8803255558014\n",
            "Total loss: 1311.1848843097687\n",
            "Total loss: 1283.6565153598785\n",
            "Total loss: 1270.8499246835709\n",
            "Total loss: 1370.3252378702164\n",
            "Total loss: 1234.838025689125\n",
            "Total loss: 1312.2860704660416\n",
            "Total loss: 1242.878100514412\n",
            "Total loss: 1306.6843526363373\n",
            "Total loss: 1260.617905139923\n",
            "Total loss: 1247.0018396377563\n",
            "Total loss: 1341.3286278247833\n",
            "Total loss: 1327.0726343393326\n",
            "Total loss: 1251.1623133420944\n",
            "Total loss: 1296.9830559492111\n",
            "Total loss: 1315.291594862938\n",
            "Total loss: 1355.57836663723\n",
            "Total loss: 1249.8041088581085\n",
            "Total loss: 1274.570173740387\n",
            "Total loss: 1269.907769203186\n",
            "Total loss: 1328.0078164339066\n",
            "Total loss: 1325.328033208847\n",
            "Total loss: 1292.8857371807098\n",
            "Total loss: 1307.2538477182388\n",
            "Total loss: 1314.8207092285156\n",
            "Total loss: 1415.1725083589554\n",
            "Total loss: 1286.3260760307312\n",
            "Total loss: 1410.7005920410156\n",
            "Total loss: 1256.8581466674805\n",
            "Total loss: 1233.7935104370117\n",
            "Total loss: 1316.5954461097717\n",
            "Total loss: 1247.6574771404266\n",
            "Total loss: 1313.6458159685135\n",
            "Total loss: 1319.70938706398\n",
            "Total loss: 1375.8113675117493\n",
            "Total loss: 1259.2616163492203\n",
            "Total loss: 1329.204236626625\n",
            "Total loss: 1222.3356899023056\n",
            "Total loss: 1275.9319721460342\n",
            "Total loss: 1322.856057047844\n",
            "Total loss: 1291.1877900362015\n",
            "Total loss: 1318.0031521320343\n",
            "Total loss: 1312.5369358062744\n",
            "Total loss: 1388.4405475854874\n",
            "Total loss: 1286.2406458854675\n",
            "Total loss: 1364.0669454336166\n",
            "Total loss: 1220.3687307834625\n",
            "Total loss: 1258.2626023292542\n",
            "Total loss: 1278.4048136472702\n",
            "Total loss: 1356.8609238862991\n",
            "Total loss: 1265.154129266739\n",
            "Total loss: 1329.7557269334793\n",
            "Total loss: 1232.052186369896\n",
            "Total loss: 1273.7907366752625\n",
            "Total loss: 1264.221018075943\n",
            "Total loss: 1347.190416932106\n",
            "Total loss: 1322.2769985198975\n",
            "Total loss: 1269.7309186458588\n",
            "Total loss: 1275.9249036312103\n",
            "Total loss: 1308.7408789396286\n",
            "Total loss: 1379.2860672473907\n",
            "Total loss: 1274.2289209365845\n",
            "Total loss: 1334.0054295063019\n",
            "Total loss: 1242.9651851654053\n",
            "Total loss: 1302.293206334114\n",
            "Total loss: 1387.556669473648\n",
            "Total loss: 1289.4983685016632\n",
            "Total loss: 1328.0935908555984\n"
          ]
        }
      ]
    },
    {
      "cell_type": "code",
      "source": [
        "def predict_tf(model, input):\n",
        "    model.eval()  # Set the model to evaluation mode\n",
        "    with torch.no_grad():  # Turn off gradient tracking for inference\n",
        "        outputs = model(input)         # Raw logits from model\n",
        "        prediction = torch.argmax(outputs, dim=1)  # Pick class with max logit\n",
        "    return prediction"
      ],
      "metadata": {
        "id": "J0GgqXTKnWjs"
      },
      "execution_count": 90,
      "outputs": []
    },
    {
      "cell_type": "code",
      "source": [
        "print(y_val.shape)\n",
        "\n",
        "\n",
        "# Turn validation set to tensors\n",
        "X_val_ts = torch.tensor(X_val, dtype=torch.float32)\n",
        "X_val_pred = predict_tf(model, X_val_ts)\n",
        "\n",
        "#flatten from tensor to numpy array\n",
        "X_val_pred = X_val_pred.numpy()\n",
        "#print(X_val_pred)\n",
        "print(X_val_pred.shape)\n",
        "\n",
        "#Turn from (1000,) to (1000,1)\n",
        "X_val_pred = X_val_pred.reshape(X_val_pred.shape[0], 1)\n",
        "print(X_val_pred.shape)\n",
        "\n",
        "\n",
        "val_acc = 0\n",
        "\n",
        "# Calculate mean correct manually\n",
        "for i in range(len(X_val_pred)):\n",
        "  if X_val_pred[i] == y_val[i]:\n",
        "    val_acc += 1\n",
        "\n",
        "val_acc = val_acc / len(X_val_pred)\n",
        "print(val_acc)"
      ],
      "metadata": {
        "id": "VKPWpQv5Z4p4",
        "outputId": "5bdd0dfc-4ffb-4821-e124-2cf8888b7e0a",
        "colab": {
          "base_uri": "https://localhost:8080/",
          "height": 0
        }
      },
      "execution_count": 104,
      "outputs": [
        {
          "output_type": "stream",
          "name": "stdout",
          "text": [
            "(1000, 1)\n",
            "(1000,)\n",
            "(1000, 1)\n",
            "0.109\n"
          ]
        }
      ]
    },
    {
      "cell_type": "code",
      "source": [
        "# Plot error_traj with epoch\n",
        "plt.plot(error_traj)\n",
        "plt.xlabel('Epoch')\n",
        "plt.ylabel('Error')\n",
        "plt.title('Training of Demo Regression model');"
      ],
      "metadata": {
        "id": "9_k8K0A1qXze",
        "outputId": "6469bbb8-956f-4245-8a1b-8430a3946b1e",
        "colab": {
          "base_uri": "https://localhost:8080/",
          "height": 472
        }
      },
      "execution_count": 105,
      "outputs": [
        {
          "output_type": "display_data",
          "data": {
            "text/plain": [
              "<Figure size 640x480 with 1 Axes>"
            ],
            "image/png": "[encoded data removed]"
          },
          "metadata": {}
        }
      ]
    },
    {
      "cell_type": "markdown",
      "source": [
        "Here we can see that the accuracy is quite low and so tuning is required. The loss is bouncing which could mean the learning rate is too high, and along with that, I can try changing the number of epochs."
      ],
      "metadata": {
        "id": "SXAjEU_JqUXT"
      }
    },
    {
      "cell_type": "code",
      "source": [
        "for learning_rate in [0.05, 0.05, 0.005, 0.0005, 0.00005]:\n",
        "\n",
        "  #Subsection 500 of the x train and x test dataset\n",
        "  # Dont need one hot for y\n",
        "  X = X_train[:500]\n",
        "  Y = y_train[:500]\n",
        "\n",
        "\n",
        "  X = torch.tensor(X, dtype=torch.float32)\n",
        "  Y = torch.tensor(Y, dtype=torch.long)\n",
        "\n",
        "  model = bmodel(3072, 100, 10)\n",
        "\n",
        "  optimizer = SGD(model.parameters(), lr=learning_rate)\n",
        "  criterion = nn.CrossEntropyLoss()\n",
        "\n",
        "  previous_total_loss = 0\n",
        "  error_traj = []\n",
        "  for epoch in range(100):\n",
        "\n",
        "      total_loss = 0\n",
        "\n",
        "      # going through my inputs\n",
        "      for iteration in range(len(X)):\n",
        "\n",
        "          input_i = X[iteration]  # xi\n",
        "          label_i = Y[iteration][0]  # yi\n",
        "\n",
        "          # 1 - forward pass\n",
        "          output_i = model.forward(input_i) ## calculate the neural network output for one input\n",
        "\n",
        "          # 2 - compute loss\n",
        "          loss = criterion(output_i.squeeze(), label_i)\n",
        "\n",
        "          # 3 - backprop\n",
        "          loss.backward() # calculates the gradient for a single value and adds it to the previous one\n",
        "\n",
        "          total_loss += float(loss.item()) # add the total loss for this epoch.\n",
        "\n",
        "      # early stopping\n",
        "      if (total_loss < 0.5):\n",
        "    #      print(\"Epoch #\" + str(epoch))\n",
        "          break\n",
        "\n",
        "      optimizer.step() # update the parameters\n",
        "      optimizer.zero_grad() # zero out the previous gradient\n",
        "\n",
        "\n",
        "     # print(\"Total loss: \" + str(total_loss))\n",
        "      error_traj.append(total_loss)\n",
        "      if (epoch == 99):\n",
        "        print(\"Learning rate: \" + str(learning_rate))\n",
        "        print(\"Total loss: \" + str(total_loss))"
      ],
      "metadata": {
        "id": "xxsbvO-VqmSI",
        "outputId": "ef002b7f-f215-496c-fc16-aeef1c6f84a9",
        "colab": {
          "base_uri": "https://localhost:8080/",
          "height": 0
        }
      },
      "execution_count": 107,
      "outputs": [
        {
          "output_type": "stream",
          "name": "stdout",
          "text": [
            "Learning rate: 0.05\n",
            "Total loss: 1264.9795172214508\n",
            "Learning rate: 0.05\n",
            "Total loss: 1307.0654380321503\n",
            "Learning rate: 0.005\n",
            "Total loss: 1146.8547525405884\n",
            "Learning rate: 0.0005\n",
            "Total loss: 1119.7259547710419\n",
            "Learning rate: 5e-05\n",
            "Total loss: 947.7844744920731\n"
          ]
        }
      ]
    },
    {
      "cell_type": "code",
      "source": [
        "# Now i will try 1000 epochs\n",
        "learning_rate = 0.00005\n",
        "\n",
        "#Subsection 500 of the x train and x test dataset\n",
        "# Dont need one hot for y\n",
        "X = X_train[:500]\n",
        "Y = y_train[:500]\n",
        "\n",
        "\n",
        "X = torch.tensor(X, dtype=torch.float32)\n",
        "Y = torch.tensor(Y, dtype=torch.long)\n",
        "\n",
        "model = bmodel(3072, 100, 10)\n",
        "\n",
        "optimizer = SGD(model.parameters(), lr=learning_rate)\n",
        "criterion = nn.CrossEntropyLoss()\n",
        "\n",
        "previous_total_loss = 0\n",
        "error_traj = []\n",
        "for epoch in range(1000):\n",
        "\n",
        "    total_loss = 0\n",
        "\n",
        "    # going through my inputs\n",
        "    for iteration in range(len(X)):\n",
        "\n",
        "        input_i = X[iteration]  # xi\n",
        "        label_i = Y[iteration][0]  # yi\n",
        "\n",
        "        # 1 - forward pass\n",
        "        output_i = model.forward(input_i) ## calculate the neural network output for one input\n",
        "\n",
        "        # 2 - compute loss\n",
        "        loss = criterion(output_i.squeeze(), label_i)\n",
        "\n",
        "        # 3 - backprop\n",
        "        loss.backward() # calculates the gradient for a single value and adds it to the previous one\n",
        "\n",
        "        total_loss += float(loss.item()) # add the total loss for this epoch.\n",
        "\n",
        "    # early stopping\n",
        "    if (total_loss < 0.5):\n",
        "  #      print(\"Epoch #\" + str(epoch))\n",
        "        break\n",
        "\n",
        "    optimizer.step() # update the parameters\n",
        "    optimizer.zero_grad() # zero out the previous gradient\n",
        "\n",
        "\n",
        "  # print(\"Total loss: \" + str(total_loss))\n",
        "    error_traj.append(total_loss)\n",
        "    if (epoch == 999):\n",
        "      print(\"Learning rate: \" + str(learning_rate))\n",
        "      print(\"Total loss: \" + str(total_loss))"
      ],
      "metadata": {
        "id": "iknZY4yvshqN",
        "outputId": "522e9d8c-deee-4416-cd7c-ffec5c27d245",
        "colab": {
          "base_uri": "https://localhost:8080/",
          "height": 0
        }
      },
      "execution_count": 109,
      "outputs": [
        {
          "output_type": "stream",
          "name": "stdout",
          "text": [
            "Learning rate: 5e-05\n",
            "Total loss: 322.2536575165577\n"
          ]
        }
      ]
    },
    {
      "cell_type": "markdown",
      "source": [
        "From this I learned that the ideal learning rate was 5e^-5 and that we should have 1000 epochs"
      ],
      "metadata": {
        "id": "6TkYNxwAr6Mo"
      }
    },
    {
      "cell_type": "code",
      "source": [
        "print(y_val.shape)\n",
        "\n",
        "\n",
        "# Turn validation set to tensors\n",
        "X_val_ts = torch.tensor(X_val, dtype=torch.float32)\n",
        "X_val_pred = predict_tf(model, X_val_ts)\n",
        "\n",
        "#flatten from tensor to numpy array\n",
        "X_val_pred = X_val_pred.numpy()\n",
        "#print(X_val_pred)\n",
        "print(X_val_pred.shape)\n",
        "\n",
        "#Turn from (1000,) to (1000,1)\n",
        "X_val_pred = X_val_pred.reshape(X_val_pred.shape[0], 1)\n",
        "print(X_val_pred.shape)\n",
        "\n",
        "\n",
        "val_acc = 0\n",
        "\n",
        "# Calculate mean correct manually\n",
        "for i in range(len(X_val_pred)):\n",
        "  if X_val_pred[i] == y_val[i]:\n",
        "    val_acc += 1\n",
        "\n",
        "val_acc = val_acc / len(X_val_pred)\n",
        "print(val_acc)"
      ],
      "metadata": {
        "id": "yLQkk8p2ta6Q",
        "outputId": "06055666-9bd0-42b6-d519-53d2030e9ce1",
        "colab": {
          "base_uri": "https://localhost:8080/",
          "height": 0
        }
      },
      "execution_count": 110,
      "outputs": [
        {
          "output_type": "stream",
          "name": "stdout",
          "text": [
            "(1000, 1)\n",
            "(1000,)\n",
            "(1000, 1)\n",
            "0.292\n"
          ]
        }
      ]
    },
    {
      "cell_type": "code",
      "source": [
        "# Plot error_traj with epoch\n",
        "plt.plot(error_traj)\n",
        "plt.xlabel('Epoch')\n",
        "plt.ylabel('Error')\n",
        "plt.title('Training of Demo Regression model');"
      ],
      "metadata": {
        "id": "73SWW536td2G",
        "outputId": "f247538d-7fed-47ec-9ea1-c13a3cf776f3",
        "colab": {
          "base_uri": "https://localhost:8080/",
          "height": 472
        }
      },
      "execution_count": 111,
      "outputs": [
        {
          "output_type": "display_data",
          "data": {
            "text/plain": [
              "<Figure size 640x480 with 1 Axes>"
            ],
            "image/png": "[encoded data removed]"
          },
          "metadata": {}
        }
      ]
    },
    {
      "cell_type": "code",
      "source": [
        "# Now I will save this model to a .pt file and then reload it\n",
        "torch.save(model.state_dict(), \"bmodel_cifar10.pt\")"
      ],
      "metadata": {
        "id": "emdnXIsVtTDj"
      },
      "execution_count": 112,
      "outputs": []
    },
    {
      "cell_type": "code",
      "source": [
        "# Recreate the model (with same input/hidden/output sizes)\n",
        "model2 = bmodel(input_size=3072, hidden_size=100, output_size=10)\n",
        "# Load again\n",
        "model2.load_state_dict(torch.load(\"bmodel_cifar10.pt\"))\n"
      ],
      "metadata": {
        "id": "lVG7fvuRuDRa",
        "outputId": "93d85555-b4a9-4fdc-fedf-7c99f0685767",
        "colab": {
          "base_uri": "https://localhost:8080/",
          "height": 0
        }
      },
      "execution_count": 114,
      "outputs": [
        {
          "output_type": "execute_result",
          "data": {
            "text/plain": [
              "<All keys matched successfully>"
            ]
          },
          "metadata": {},
          "execution_count": 114
        }
      ]
    },
    {
      "cell_type": "markdown",
      "source": [
        "Now we will evaluate it again to make sure the loaded model2 is the same as the og model"
      ],
      "metadata": {
        "id": "bWZ3biiputbO"
      }
    },
    {
      "cell_type": "code",
      "source": [
        "print(y_val.shape)\n",
        "\n",
        "\n",
        "# Turn validation set to tensors\n",
        "X_val_ts = torch.tensor(X_val, dtype=torch.float32)\n",
        "X_val_pred = predict_tf(model2, X_val_ts)\n",
        "\n",
        "#flatten from tensor to numpy array\n",
        "X_val_pred = X_val_pred.numpy()\n",
        "#print(X_val_pred)\n",
        "print(X_val_pred.shape)\n",
        "\n",
        "#Turn from (1000,) to (1000,1)\n",
        "X_val_pred = X_val_pred.reshape(X_val_pred.shape[0], 1)\n",
        "print(X_val_pred.shape)\n",
        "\n",
        "\n",
        "val_acc = 0\n",
        "\n",
        "# Calculate mean correct manually\n",
        "for i in range(len(X_val_pred)):\n",
        "  if X_val_pred[i] == y_val[i]:\n",
        "    val_acc += 1\n",
        "\n",
        "val_acc = val_acc / len(X_val_pred)\n",
        "print(val_acc)"
      ],
      "metadata": {
        "id": "L_DI1PDQqrYR",
        "outputId": "06002de0-470d-4e61-d90b-cacf5e3e36fc",
        "colab": {
          "base_uri": "https://localhost:8080/",
          "height": 0
        }
      },
      "execution_count": 115,
      "outputs": [
        {
          "output_type": "stream",
          "name": "stdout",
          "text": [
            "(1000, 1)\n",
            "(1000,)\n",
            "(1000, 1)\n",
            "0.292\n"
          ]
        }
      ]
    },
    {
      "cell_type": "markdown",
      "source": [
        "The accuracy of both is 0.292, meaning they are the same model."
      ],
      "metadata": {
        "id": "FZTRystJu4PO"
      }
    },
    {
      "cell_type": "markdown",
      "source": [
        "###Now I will generate a custom deep model."
      ],
      "metadata": {
        "id": "mQSt29QWu9oS"
      }
    },
    {
      "cell_type": "code",
      "source": [
        "class bmodel_custom(nn.Module):\n",
        "    def __init__(self, input_size, hidden_size, output_size):\n",
        "        super(bmodel_custom, self).__init__()\n",
        "        self.fc1 = nn.Linear(input_size, hidden_size)  # First layer\n",
        "        self.relu = nn.ReLU()                          # Activation\n",
        "        self.fc2 = nn.Linear(hidden_size, hidden_size)\n",
        "        self.relu2 = nn.ReLU()\n",
        "        self.fc3 = nn.Linear(hidden_size, hidden_size)\n",
        "        self.relu3 = nn.ReLU()\n",
        "        self.fc4 = nn.Linear(hidden_size, hidden_size)\n",
        "        self.relu4 = nn.ReLU()\n",
        "        self.fc5 = nn.Linear(hidden_size, output_size)\n",
        "\n",
        "    def forward(self, x):\n",
        "        x = self.fc1(x)\n",
        "        x = self.relu(x)\n",
        "        x = self.fc2(x)\n",
        "        x = self.relu2(x)\n",
        "        x = self.fc3(x)\n",
        "        x = self.relu3(x)\n",
        "        x = self.fc4(x)\n",
        "        x = self.relu4(x)\n",
        "        x = self.fc5(x)\n",
        "        return x"
      ],
      "metadata": {
        "id": "v4yP725Uu7gG"
      },
      "execution_count": 118,
      "outputs": []
    },
    {
      "cell_type": "code",
      "source": [
        "# Now i will try 1000 epochs\n",
        "learning_rate = 0.00005\n",
        "\n",
        "#Subsection 500 of the x train and x test dataset\n",
        "# Dont need one hot for y\n",
        "X = X_train[:500]\n",
        "Y = y_train[:500]\n",
        "\n",
        "\n",
        "X = torch.tensor(X, dtype=torch.float32)\n",
        "Y = torch.tensor(Y, dtype=torch.long)\n",
        "\n",
        "model = bmodel_custom(3072, 100, 10)\n",
        "\n",
        "optimizer = SGD(model.parameters(), lr=learning_rate)\n",
        "criterion = nn.CrossEntropyLoss()\n",
        "\n",
        "previous_total_loss = 0\n",
        "error_traj = []\n",
        "for epoch in range(1000):\n",
        "\n",
        "    total_loss = 0\n",
        "\n",
        "    # going through my inputs\n",
        "    for iteration in range(len(X)):\n",
        "\n",
        "        input_i = X[iteration]  # xi\n",
        "        label_i = Y[iteration][0]  # yi\n",
        "\n",
        "        # 1 - forward pass\n",
        "        output_i = model.forward(input_i) ## calculate the neural network output for one input\n",
        "\n",
        "        # 2 - compute loss\n",
        "        loss = criterion(output_i.squeeze(), label_i)\n",
        "\n",
        "        # 3 - backprop\n",
        "        loss.backward() # calculates the gradient for a single value and adds it to the previous one\n",
        "\n",
        "        total_loss += float(loss.item()) # add the total loss for this epoch.\n",
        "\n",
        "    # early stopping\n",
        "    if (total_loss < 0.5):\n",
        "  #      print(\"Epoch #\" + str(epoch))\n",
        "        break\n",
        "\n",
        "    optimizer.step() # update the parameters\n",
        "    optimizer.zero_grad() # zero out the previous gradient\n",
        "\n",
        "\n",
        "  # print(\"Total loss: \" + str(total_loss))\n",
        "    error_traj.append(total_loss)\n",
        "    if (epoch == 999):\n",
        "      print(\"Learning rate: \" + str(learning_rate))\n",
        "      print(\"Total loss: \" + str(total_loss))"
      ],
      "metadata": {
        "id": "JR7smYUMwgIZ",
        "outputId": "f6320bc9-942b-4866-9484-5b6e1efba80d",
        "colab": {
          "base_uri": "https://localhost:8080/",
          "height": 0
        }
      },
      "execution_count": 119,
      "outputs": [
        {
          "output_type": "stream",
          "name": "stdout",
          "text": [
            "Learning rate: 5e-05\n",
            "Total loss: 830.9942159205675\n"
          ]
        }
      ]
    },
    {
      "cell_type": "markdown",
      "source": [
        "I changed the model and made it more complex by having it be a 5 layer deep NN instead of a 2 layer."
      ],
      "metadata": {
        "id": "AQk2p4zeyO42"
      }
    },
    {
      "cell_type": "code",
      "source": [
        "print(y_val.shape)\n",
        "\n",
        "\n",
        "# Turn validation set to tensors\n",
        "X_val_ts = torch.tensor(X_val, dtype=torch.float32)\n",
        "X_val_pred = predict_tf(model, X_val_ts)\n",
        "\n",
        "#flatten from tensor to numpy array\n",
        "X_val_pred = X_val_pred.numpy()\n",
        "#print(X_val_pred)\n",
        "print(X_val_pred.shape)\n",
        "\n",
        "#Turn from (1000,) to (1000,1)\n",
        "X_val_pred = X_val_pred.reshape(X_val_pred.shape[0], 1)\n",
        "print(X_val_pred.shape)\n",
        "\n",
        "\n",
        "val_acc = 0\n",
        "\n",
        "# Calculate mean correct manually\n",
        "for i in range(len(X_val_pred)):\n",
        "  if X_val_pred[i] == y_val[i]:\n",
        "    val_acc += 1\n",
        "\n",
        "val_acc = val_acc / len(X_val_pred)\n",
        "print(val_acc)"
      ],
      "metadata": {
        "id": "6mh6jei7wtHW",
        "outputId": "84017c46-2cfe-4aeb-d700-791bb3a1073b",
        "colab": {
          "base_uri": "https://localhost:8080/",
          "height": 0
        }
      },
      "execution_count": 120,
      "outputs": [
        {
          "output_type": "stream",
          "name": "stdout",
          "text": [
            "(1000, 1)\n",
            "(1000,)\n",
            "(1000, 1)\n",
            "0.264\n"
          ]
        }
      ]
    },
    {
      "cell_type": "code",
      "source": [
        "# Plot error_traj with epoch\n",
        "plt.plot(error_traj)\n",
        "plt.xlabel('Epoch')\n",
        "plt.ylabel('Error')\n",
        "plt.title('Training of Demo Regression model');"
      ],
      "metadata": {
        "id": "hY0_eameqv9u",
        "outputId": "c2381852-3ca7-46c5-aea2-000c1e810034",
        "colab": {
          "base_uri": "https://localhost:8080/",
          "height": 472
        }
      },
      "execution_count": 121,
      "outputs": [
        {
          "output_type": "display_data",
          "data": {
            "text/plain": [
              "<Figure size 640x480 with 1 Axes>"
            ],
            "image/png": "[encoded data removed]"
          },
          "metadata": {}
        }
      ]
    },
    {
      "cell_type": "markdown",
      "source": [
        "Test the test accuracy too"
      ],
      "metadata": {
        "id": "C_mGpXg5xn5D"
      }
    },
    {
      "cell_type": "code",
      "source": [
        "\n",
        "# Turn validation set to tensors\n",
        "X_test_ts = torch.tensor(X_test, dtype=torch.float32)\n",
        "X_test_pred = predict_tf(model, X_test_ts)\n",
        "\n",
        "#flatten from tensor to numpy array\n",
        "X_test_pred = X_test_pred.numpy()\n",
        "#print(X_val_pred)\n",
        "print(X_test_pred.shape)\n",
        "\n",
        "#Turn from (1000,) to (1000,1)\n",
        "X_test_pred = X_test_pred.reshape(X_test_pred.shape[0], 1)\n",
        "print(X_test_pred.shape)\n",
        "\n",
        "\n",
        "test_acc = 0\n",
        "\n",
        "# Calculate mean correct manually\n",
        "for i in range(len(X_test_pred)):\n",
        "  if X_test_pred[i] == y_test[i]:\n",
        "    test_acc += 1\n",
        "\n",
        "test_acc = test_acc / len(X_test_pred)\n",
        "print(test_acc)"
      ],
      "metadata": {
        "id": "JB41OIV9xp55",
        "outputId": "a59e2037-8a65-49f9-c827-9236dbec1128",
        "colab": {
          "base_uri": "https://localhost:8080/",
          "height": 0
        }
      },
      "execution_count": 122,
      "outputs": [
        {
          "output_type": "stream",
          "name": "stdout",
          "text": [
            "(1000,)\n",
            "(1000, 1)\n",
            "0.266\n"
          ]
        }
      ]
    },
    {
      "cell_type": "markdown",
      "source": [
        "The model with the deeper neural network performed only slightly better than the 2 layer."
      ],
      "metadata": {
        "id": "83Fwsv43yp-E"
      }
    },
    {
      "cell_type": "code",
      "source": [],
      "metadata": {
        "id": "7kpjM_EazIwh"
      },
      "execution_count": null,
      "outputs": []
    }
  ]
}