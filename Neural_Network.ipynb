{
  "nbformat": 4,
  "nbformat_minor": 0,
  "metadata": {
    "colab": {
      "provenance": [],
      "authorship_tag": "ABX9TyOM1g7eh3SsQ33quAyzHza5",
      "include_colab_link": true
    },
    "kernelspec": {
      "name": "python3",
      "display_name": "Python 3"
    },
    "language_info": {
      "name": "python"
    }
  },
  "cells": [
    {
      "cell_type": "markdown",
      "metadata": {
        "id": "view-in-github",
        "colab_type": "text"
      },
      "source": [
        "<a href=\"https://colab.research.google.com/github/ismail-memon-123/CS_5262_ML/blob/main/Neural_Network.ipynb\" target=\"_parent\"><img src=\"https://colab.research.google.com/assets/colab-badge.svg\" alt=\"Open In Colab\"/></a>"
      ]
    },
    {
      "cell_type": "markdown",
      "source": [
        "#Neural Networks"
      ],
      "metadata": {
        "id": "fxUKlrjCgRp5"
      }
    },
    {
      "cell_type": "code",
      "source": [
        "#imports\n",
        "import pandas as pd\n",
        "import numpy as np\n",
        "import matplotlib.pyplot as plt"
      ],
      "metadata": {
        "id": "bafMJwRZgS7n"
      },
      "execution_count": 4,
      "outputs": []
    },
    {
      "cell_type": "markdown",
      "source": [
        "##Task 1: Linear Regression with One Variable"
      ],
      "metadata": {
        "id": "lH-2axBDgsXh"
      }
    },
    {
      "cell_type": "code",
      "source": [
        "#Load data from txt file\n",
        "food_data = np.array([\n",
        "[6.1101,17.592],\n",
        "[5.5277,9.1302],\n",
        "[8.5186,13.662],\n",
        "[7.0032,11.854],\n",
        "[5.8598,6.8233],\n",
        "[8.3829,11.886],\n",
        "[7.4764,4.3483],\n",
        "[8.5781,12],\n",
        "[6.4862,6.5987],\n",
        "[5.0546,3.8166],\n",
        "[5.7107,3.2522],\n",
        "[14.164,15.505],\n",
        "[5.734,3.1551],\n",
        "[8.4084,7.2258],\n",
        "[5.6407,0.71618],\n",
        "[5.3794,3.5129],\n",
        "[6.3654,5.3048],\n",
        "[5.1301,0.56077],\n",
        "[6.4296,3.6518],\n",
        "[7.0708,5.3893],\n",
        "[6.1891,3.1386],\n",
        "[20.27,21.767],\n",
        "[5.4901,4.263],\n",
        "[6.3261,5.1875],\n",
        "[5.5649,3.0825],\n",
        "[18.945,22.638],\n",
        "[12.828,13.501],\n",
        "[10.957,7.0467],\n",
        "[13.176,14.692],\n",
        "[22.203,24.147],\n",
        "[5.2524,-1.22],\n",
        "[6.5894,5.9966],\n",
        "[9.2482,12.134],\n",
        "[5.8918,1.8495],\n",
        "[8.2111,6.5426],\n",
        "[7.9334,4.5623],\n",
        "[8.0959,4.1164],\n",
        "[5.6063,3.3928],\n",
        "[12.836,10.117],\n",
        "[6.3534,5.4974],\n",
        "[5.4069,0.55657],\n",
        "[6.8825,3.9115],\n",
        "[11.708,5.3854],\n",
        "[5.7737,2.4406],\n",
        "[7.8247,6.7318],\n",
        "[7.0931,1.0463],\n",
        "[5.0702,5.1337],\n",
        "[5.8014,1.844],\n",
        "[11.7,8.0043],\n",
        "[5.5416,1.0179],\n",
        "[7.5402,6.7504],\n",
        "[5.3077,1.8396],\n",
        "[7.4239,4.2885],\n",
        "[7.6031,4.9981],\n",
        "[6.3328,1.4233],\n",
        "[6.3589,-1.4211],\n",
        "[6.2742,2.4756],\n",
        "[5.6397,4.6042],\n",
        "[9.3102,3.9624],\n",
        "[9.4536,5.4141],\n",
        "[8.8254,5.1694],\n",
        "[5.1793,-0.74279],\n",
        "[21.279,17.929],\n",
        "[14.908,12.054],\n",
        "[18.959,17.054],\n",
        "[7.2182,4.8852],\n",
        "[8.2951,5.7442],\n",
        "[10.236,7.7754],\n",
        "[5.4994,1.0173],\n",
        "[20.341,20.992],\n",
        "[10.136,6.6799],\n",
        "[7.3345,4.0259],\n",
        "[6.0062,1.2784],\n",
        "[7.2259,3.3411],\n",
        "[5.0269,-2.6807],\n",
        "[6.5479,0.29678],\n",
        "[7.5386,3.8845],\n",
        "[5.0365,5.7014],\n",
        "[10.274,6.7526],\n",
        "[5.1077,2.0576],\n",
        "[5.7292,0.47953],\n",
        "[5.1884,0.20421],\n",
        "[6.3557,0.67861],\n",
        "[9.7687,7.5435],\n",
        "[6.5159,5.3436],\n",
        "[8.5172,4.2415],\n",
        "[9.1802,6.7981],\n",
        "[6.002,0.92695],\n",
        "[5.5204,0.152],\n",
        "[5.0594,2.8214],\n",
        "[5.7077,1.8451],\n",
        "[7.6366,4.2959],\n",
        "[5.8707,7.2029],\n",
        "[5.3054,1.9869],\n",
        "[8.2934,0.14454],\n",
        "[13.394,9.0551],\n",
        "[5.4369,0.61705],\n",
        "])"
      ],
      "metadata": {
        "id": "CsAXWUdjgwqG"
      },
      "execution_count": 28,
      "outputs": []
    },
    {
      "cell_type": "code",
      "source": [
        "# Plot the data food_data\n",
        "plt.scatter(food_data[:,0], food_data[:,1])\n",
        "plt.show()"
      ],
      "metadata": {
        "id": "J-peNLmUkMBB",
        "outputId": "e0545cf4-ade3-41fd-8c56-d3b115722c58",
        "colab": {
          "base_uri": "https://localhost:8080/",
          "height": 430
        }
      },
      "execution_count": 29,
      "outputs": [
        {
          "output_type": "display_data",
          "data": {
            "text/plain": [
              "<Figure size 640x480 with 1 Axes>"
            ],
            "image/png": "[encoded data removed]"
          },
          "metadata": {}
        }
      ]
    },
    {
      "cell_type": "code",
      "source": [
        "# make up some initial thetas\n",
        "theta_0 = 0.22\n",
        "theta_1 = 0.86"
      ],
      "metadata": {
        "id": "RqbPPCuGiDYx"
      },
      "execution_count": 30,
      "outputs": []
    },
    {
      "cell_type": "code",
      "source": [
        "def calculate_single_forward(thetas, train_ex):\n",
        "    '''\n",
        "        thetas: theta0, theta1, ..., thetaj\n",
        "        train_ex: (x, y)\n",
        "\n",
        "        returns: gradients based on a single training example\n",
        "    '''\n",
        "\n",
        "    # parse model parameters\n",
        "    theta_0 = thetas[0]\n",
        "    theta_1 = thetas[1]\n",
        "\n",
        "    # parse data inputs\n",
        "    x0 = 1\n",
        "    x1 = train_ex[0]\n",
        "    y = train_ex[1]\n",
        "\n",
        "    # do one forward pass with a single training example\n",
        "    # to calculate error and gradient\n",
        "    y_hat = theta_0 + theta_1 * x1\n",
        "    error = y_hat - y\n",
        "\n",
        "    # for each theta, we need the gradient for an update\n",
        "    gradients = np.array([error * x0, error * x1])\n",
        "\n",
        "    # Question: what would you do differently for GD or mini-batch GD?\n",
        "\n",
        "    return gradients"
      ],
      "metadata": {
        "id": "U_tYCsI9iISd"
      },
      "execution_count": 31,
      "outputs": []
    },
    {
      "cell_type": "code",
      "source": [
        "def gradient_descent(training_data, thetas, alpha=5e-3):\n",
        "    '''\n",
        "    training_data: training dataset\n",
        "    thetas: theta0, theta1, ..., thetaj\n",
        "    alpha: learning rate, default to 0.0005\n",
        "\n",
        "    returns:\n",
        "            - thetas: the updated thetas\n",
        "            - total_error: total error (note, not loss) from this iteration\n",
        "    '''\n",
        "\n",
        "    total_error = 0\n",
        "    overall_gradients = np.zeros(2)\n",
        "\n",
        "    # compute the summation of gradients across all training examples\n",
        "    for ex in training_data:\n",
        "        gradients = calculate_single_forward(thetas, ex)\n",
        "        # gradients[0] is the error term (gradients[0] = error * x0 = error * 1)\n",
        "        total_error += gradients[0]\n",
        "        overall_gradients = overall_gradients + gradients\n",
        "\n",
        "    # update thetas\n",
        "    theta_0, theta_1 = thetas\n",
        "    thetas[0] = theta_0 - alpha * overall_gradients[0]\n",
        "    thetas[1] = theta_1 - alpha * overall_gradients[1]\n",
        "\n",
        "    return thetas, total_error"
      ],
      "metadata": {
        "id": "EXZfh167iIWi"
      },
      "execution_count": 32,
      "outputs": []
    },
    {
      "cell_type": "code",
      "source": [
        "# set initial parameters\n",
        "thetas = [1.01, 3.01]\n",
        "old_thetas = thetas.copy()\n",
        "alpha = 5e-3\n",
        "\n",
        "# prepare training\n",
        "total_epochs = 100\n",
        "error_traj = [0] * total_epochs\n",
        "\n",
        "# perform training\n",
        "for epoch in range(total_epochs):\n",
        "    thetas, epoch_error = gradient_descent(food_data, thetas, alpha)\n",
        "    print(thetas)\n",
        "    # store a history of errors\n",
        "    error_traj[epoch] = epoch_error\n"
      ],
      "metadata": {
        "id": "-wcbVvAkiIYO",
        "outputId": "445515cc-65ae-4abc-de9e-e0547d1106b4",
        "colab": {
          "base_uri": "https://localhost:8080/"
        }
      },
      "execution_count": 55,
      "outputs": [
        {
          "output_type": "stream",
          "name": "stdout",
          "text": [
            "[np.float64(-8.559953529999998), np.float64(-88.14013183219194)]\n",
            "[np.float64(347.23844057834515), np.float64(3457.2732142876625)]\n",
            "[np.float64(-13500.509339965218), np.float64(-134381.53992610754)]\n",
            "[np.float64(524865.4170726081), np.float64(5224584.239135918)]\n",
            "[np.float64(-20405999.27836022), np.float64(-203123892.52479088)]\n",
            "[np.float64(793354327.2421623), np.float64(7897149522.969925)]\n",
            "[np.float64(-30844415447.240364), np.float64(-307029220064.6511)]\n",
            "[np.float64(1199184185541.0203), np.float64(11936831347932.607)]\n",
            "[np.float64(-46622466014380.875), np.float64(-464085934877862.4)]\n",
            "[np.float64(1812610909539540.0), np.float64(1.8042958694291984e+16)]\n",
            "[np.float64(-7.047156854312373e+16), np.float64(-7.014829236951631e+17)]\n",
            "[np.float64(2.7398279171726705e+18), np.float64(2.7272594288628875e+19)]\n",
            "[np.float64(-1.0652036233768768e+20), np.float64(-1.0603171853622707e+21)]\n",
            "[np.float64(4.141350455418832e+21), np.float64(4.122352724043295e+22)]\n",
            "[np.float64(-1.6100943724005445e+23), np.float64(-1.6027083419968366e+24)]\n",
            "[np.float64(6.259803211398881e+24), np.float64(6.231087443159967e+25)]\n",
            "[np.float64(-2.433716738418085e+26), np.float64(-2.422552482376891e+27)]\n",
            "[np.float64(9.461922304635463e+27), np.float64(9.418517367001055e+28)]\n",
            "[np.float64(-3.6786521736770045e+29), np.float64(-3.6617769909143104e+30)]\n",
            "[np.float64(1.4302042839929995e+31), np.float64(1.4236434683624623e+32)]\n",
            "[np.float64(-5.560417776349207e+32), np.float64(-5.534910318241522e+33)]\n",
            "[np.float64(2.161806267368979e+34), np.float64(2.1518893537448993e+35)]\n",
            "[np.float64(-8.404775550343999e+35), np.float64(-8.36622009122602e+36)]\n",
            "[np.float64(3.267649516884452e+37), np.float64(3.2526597379658525e+38)]\n",
            "[np.float64(-1.2704126720859525e+39), np.float64(-1.264584872931986e+40)]\n",
            "[np.float64(4.939172175770526e+40), np.float64(4.9165145747722716e+41)]\n",
            "[np.float64(-1.9202753812152813e+42), np.float64(-1.9114664488990948e+43)]\n",
            "[np.float64(7.465740023784929e+43), np.float64(7.431492228284819e+44)]\n",
            "[np.float64(-2.9025667176688925e+45), np.float64(-2.8892516931628884e+46)]\n",
            "[np.float64(1.1284740057487264e+47), np.float64(1.1232973257608153e+48)]\n",
            "[np.float64(-4.387336125294342e+48), np.float64(-4.3672099770584515e+49)]\n",
            "[np.float64(1.705729877538609e+50), np.float64(1.6979051357396364e+51)]\n",
            "[np.float64(-6.63161957971178e+51), np.float64(-6.601198167972696e+52)]\n",
            "[np.float64(2.5782733144991293e+53), np.float64(2.5664459300821728e+54)]\n",
            "[np.float64(-1.0023936391941283e+55), np.float64(-9.977953311554927e+55)]\n",
            "[np.float64(3.8971547440153594e+56), np.float64(3.879277218374215e+57)]\n",
            "[np.float64(-1.5151547760230818e+58), np.float64(-1.5082042646531527e+59)]\n",
            "[np.float64(5.890692431012454e+59), np.float64(5.863669894855473e+60)]\n",
            "[np.float64(-2.2902120539703094e+61), np.float64(-2.2797061009333165e+62)]\n",
            "[np.float64(8.903997812782437e+62), np.float64(8.863152257585745e+63)]\n",
            "[np.float64(-3.461739576149406e+64), np.float64(-3.4458594425389555e+65)]\n",
            "[np.float64(1.3458719493254548e+66), np.float64(1.3396979937439608e+67)]\n",
            "[np.float64(-5.232546423945445e+67), np.float64(-5.208543019152188e+68)]\n",
            "[np.float64(2.0343348483090658e+69), np.float64(2.0250026878478547e+70)]\n",
            "[np.float64(-7.909185967478034e+70), np.float64(-7.872903940147374e+71)]\n",
            "[np.float64(3.074971788451992e+72), np.float64(3.060865885400988e+73)]\n",
            "[np.float64(-1.1955024876966786e+74), np.float64(-1.1900183261014358e+75)]\n",
            "[np.float64(4.647932717485032e+75), np.float64(4.626611127301131e+76)]\n",
            "[np.float64(-1.8070458881177127e+77), np.float64(-1.7987563765839064e+78)]\n",
            "[np.float64(7.025520893361881e+78), np.float64(6.993292527242636e+79)]\n",
            "[np.float64(-2.7314161830432176e+80), np.float64(-2.7188862821138337e+81)]\n",
            "[np.float64(1.0619332684697617e+82), np.float64(1.0570618326445863e+83)]\n",
            "[np.float64(-4.128635810550255e+83), np.float64(-4.1096964054164445e+84)]\n",
            "[np.float64(1.605151110928145e+85), np.float64(1.5977877568843799e+86)]\n",
            "[np.float64(-6.240584559020404e+86), np.float64(-6.211956953036592e+87)]\n",
            "[np.float64(2.426244817272363e+88), np.float64(2.4151148373814976e+89)]\n",
            "[np.float64(-9.432872606192264e+89), np.float64(-9.389600929042207e+90)]\n",
            "[np.float64(3.667358090626842e+91), np.float64(3.6505347175233956e+92)]\n",
            "[np.float64(-1.425813315453571e+93), np.float64(-1.4192726426343433e+94)]\n",
            "[np.float64(5.54334635529748e+94), np.float64(5.517917209391291e+95)]\n",
            "[np.float64(-2.1551691572619847e+96), np.float64(-2.1452826902364915e+97)]\n",
            "[np.float64(8.378971470859995e+97), np.float64(8.340534383508831e+98)]\n",
            "[np.float64(-3.2576172813590067e+99), np.float64(-3.2426735235916357e+100)]\n",
            "[np.float64(1.2665122907644482e+101), np.float64(1.2607023839374908e+102)]\n",
            "[np.float64(-4.924008083565402e+102), np.float64(-4.901420045226324e+103)]\n",
            "[np.float64(1.91437981169397e+104), np.float64(1.905597924286752e+105)]\n",
            "[np.float64(-7.442818941856354e+105), np.float64(-7.408676292868714e+106)]\n",
            "[np.float64(2.8936553479551217e+107), np.float64(2.8803812028216387e+108)]\n",
            "[np.float64(-1.1250094000890554e+109), np.float64(-1.1198486133824192e+110)]\n",
            "[np.float64(4.373866262902178e+110), np.float64(4.3538019053382317e+111)]\n",
            "[np.float64(-1.7004929989242301e+112), np.float64(-1.6926922804032285e+113)]\n",
            "[np.float64(6.611259388328017e+113), np.float64(6.580931375457453e+114)]\n",
            "[np.float64(-2.57035758026681e+115), np.float64(-2.5585665079162203e+116)]\n",
            "[np.float64(9.993161215394224e+116), np.float64(9.947319310825606e+117)]\n",
            "[np.float64(-3.8851898211957464e+118), np.float64(-3.86736718257566e+119)]\n",
            "[np.float64(1.5105029951353135e+120), np.float64(1.5035738230083862e+121)]\n",
            "[np.float64(-5.872607011027688e+121), np.float64(-5.845667438617525e+122)]\n",
            "[np.float64(2.2831807164263254e+123), np.float64(2.272707018438335e+124)]\n",
            "[np.float64(-8.876661036694811e+124), np.float64(-8.835940884246428e+125)]\n",
            "[np.float64(3.45111145138381e+126), np.float64(3.4352800724637645e+127)]\n",
            "[np.float64(-1.341739895286929e+128), np.float64(-1.3355848947911014e+129)]\n",
            "[np.float64(5.216481623283191e+129), np.float64(5.19255191299391e+130)]\n",
            "[np.float64(-2.0280890969730057e+131), np.float64(-2.0187855878194778e+132)]\n",
            "[np.float64(7.884903431658239e+132), np.float64(7.848732796275109e+133)]\n",
            "[np.float64(-3.0655311060726723e+134), np.float64(-3.051468510524808e+135)]\n",
            "[np.float64(1.191832093284472e+136), np.float64(1.1863647689909338e+137)]\n",
            "[np.float64(-4.633662779571778e+137), np.float64(-4.612406650268362e+138)]\n",
            "[np.float64(1.8014979522509046e+139), np.float64(1.793233890916597e+140)]\n",
            "[np.float64(-7.0039513584631826e+140), np.float64(-6.971821938867382e+141)]\n",
            "[np.float64(2.7230302743572614e+142), np.float64(2.710538842338508e+143)]\n",
            "[np.float64(-1.0586729541041778e+144), np.float64(-1.0538164744091775e+145)]\n",
            "[np.float64(4.115960201787377e+145), np.float64(4.0970789438238905e+146)]\n",
            "[np.float64(-1.6002230261027836e+147), np.float64(-1.5928822787987067e+148)]\n",
            "[np.float64(6.221424911148425e+148), np.float64(6.192885196746701e+149)]\n",
            "[np.float64(-2.4187958361856518e+150), np.float64(-2.407700027211552e+151)]\n",
            "[np.float64(9.403912095226241e+151), np.float64(9.360773269428357e+152)]\n",
            "[np.float64(-3.656098682317838e+153), np.float64(-3.639326959809238e+154)]\n",
            "[np.float64(1.421435827928657e+155), np.float64(1.4149152360789087e+156)]\n",
            "[np.float64(-5.526327346389663e+156), np.float64(-5.500976272253296e+157)]\n",
            "[np.float64(2.1485524242032163e+158), np.float64(2.1386963103001127e+159)]\n"
          ]
        }
      ]
    },
    {
      "cell_type": "code",
      "source": [
        "# Let's do an exploratory plot\n",
        "plt.plot(error_traj)\n",
        "plt.xlabel('Epoch')\n",
        "plt.ylabel('Error')\n",
        "plt.title('Training of Demo Regression model');"
      ],
      "metadata": {
        "id": "eQU1G8PRiIZ_",
        "outputId": "898183f7-96f7-4e7d-9b1b-be814cdcad74",
        "colab": {
          "base_uri": "https://localhost:8080/",
          "height": 472
        }
      },
      "execution_count": 41,
      "outputs": [
        {
          "output_type": "display_data",
          "data": {
            "text/plain": [
              "<Figure size 640x480 with 1 Axes>"
            ],
            "image/png": "[encoded data removed]"
          },
          "metadata": {}
        }
      ]
    },
    {
      "cell_type": "code",
      "source": [
        "lin_pts = np.linspace(0, 25, 100) # gives you 100 values between [0, 25]\n",
        "\n",
        "mdl_pts = thetas[0] + lin_pts * thetas[1]\n",
        "print(thetas[0])\n",
        "print(thetas[1])\n",
        "plt.plot(lin_pts, mdl_pts, linewidth=4, label='Final model fit')\n",
        "plt.legend()\n",
        "ax = plt.gca()\n",
        "ax.set_ylim([-10, 30])\n",
        "\n",
        "# Let's look at the original least squares\n",
        "orig_mdl_pts = old_thetas[0] + lin_pts * old_thetas[1]\n",
        "plt.plot(lin_pts, orig_mdl_pts, ':', linewidth=4, label='Original model fit')\n",
        "plt.legend()\n",
        "\n",
        "# Let's plot the original points\n",
        "plt.plot(food_data[:,0], food_data[:,1], 'ro', label='Data points') # 'ro' for red, circle\n",
        "plt.legend()\n",
        "plt.xlabel('Demo x label')\n",
        "plt.ylabel('Demo y label')\n",
        "plt.title('Comparison of pre- vs post-model training')\n"
      ],
      "metadata": {
        "id": "P9aTu4Q-iIdT",
        "outputId": "239f8be7-ca16-4e40-ba4a-43627be34b75",
        "colab": {
          "base_uri": "https://localhost:8080/",
          "height": 526
        }
      },
      "execution_count": 53,
      "outputs": [
        {
          "output_type": "stream",
          "name": "stdout",
          "text": [
            "2.1485524242032163e+158\n",
            "2.1386963103001127e+159\n"
          ]
        },
        {
          "output_type": "execute_result",
          "data": {
            "text/plain": [
              "Text(0.5, 1.0, 'Comparison of pre- vs post-model training')"
            ]
          },
          "metadata": {},
          "execution_count": 53
        },
        {
          "output_type": "display_data",
          "data": {
            "text/plain": [
              "<Figure size 640x480 with 1 Axes>"
            ],
            "image/png": "[encoded data removed]"
          },
          "metadata": {}
        }
      ]
    },
    {
      "cell_type": "code",
      "source": [],
      "metadata": {
        "id": "0MNmx2NQiIei"
      },
      "execution_count": null,
      "outputs": []
    },
    {
      "cell_type": "code",
      "source": [],
      "metadata": {
        "id": "4FzECSgoiIgj"
      },
      "execution_count": null,
      "outputs": []
    }
  ]
}