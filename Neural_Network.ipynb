{
  "nbformat": 4,
  "nbformat_minor": 0,
  "metadata": {
    "colab": {
      "provenance": [],
      "authorship_tag": "ABX9TyPi2y/oLHrkK3d+DjUl02Xt",
      "include_colab_link": true
    },
    "kernelspec": {
      "name": "python3",
      "display_name": "Python 3"
    },
    "language_info": {
      "name": "python"
    }
  },
  "cells": [
    {
      "cell_type": "markdown",
      "metadata": {
        "id": "view-in-github",
        "colab_type": "text"
      },
      "source": [
        "<a href=\"https://colab.research.google.com/github/ismail-memon-123/CS_5262_ML/blob/main/Neural_Network.ipynb\" target=\"_parent\"><img src=\"https://colab.research.google.com/assets/colab-badge.svg\" alt=\"Open In Colab\"/></a>"
      ]
    },
    {
      "cell_type": "markdown",
      "source": [
        "#Neural Networks"
      ],
      "metadata": {
        "id": "fxUKlrjCgRp5"
      }
    },
    {
      "cell_type": "code",
      "source": [
        "#imports\n",
        "import pandas as pd\n",
        "import numpy as np\n",
        "import matplotlib.pyplot as plt"
      ],
      "metadata": {
        "id": "bafMJwRZgS7n"
      },
      "execution_count": 4,
      "outputs": []
    },
    {
      "cell_type": "markdown",
      "source": [
        "##Task 1: Linear Regression with One Variable"
      ],
      "metadata": {
        "id": "lH-2axBDgsXh"
      }
    },
    {
      "cell_type": "code",
      "source": [
        "#Load data from txt file\n",
        "food_data = np.array([\n",
        "[6.1101,17.592],\n",
        "[5.5277,9.1302],\n",
        "[8.5186,13.662],\n",
        "[7.0032,11.854],\n",
        "[5.8598,6.8233],\n",
        "[8.3829,11.886],\n",
        "[7.4764,4.3483],\n",
        "[8.5781,12],\n",
        "[6.4862,6.5987],\n",
        "[5.0546,3.8166],\n",
        "[5.7107,3.2522],\n",
        "[14.164,15.505],\n",
        "[5.734,3.1551],\n",
        "[8.4084,7.2258],\n",
        "[5.6407,0.71618],\n",
        "[5.3794,3.5129],\n",
        "[6.3654,5.3048],\n",
        "[5.1301,0.56077],\n",
        "[6.4296,3.6518],\n",
        "[7.0708,5.3893],\n",
        "[6.1891,3.1386],\n",
        "[20.27,21.767],\n",
        "[5.4901,4.263],\n",
        "[6.3261,5.1875],\n",
        "[5.5649,3.0825],\n",
        "[18.945,22.638],\n",
        "[12.828,13.501],\n",
        "[10.957,7.0467],\n",
        "[13.176,14.692],\n",
        "[22.203,24.147],\n",
        "[5.2524,-1.22],\n",
        "[6.5894,5.9966],\n",
        "[9.2482,12.134],\n",
        "[5.8918,1.8495],\n",
        "[8.2111,6.5426],\n",
        "[7.9334,4.5623],\n",
        "[8.0959,4.1164],\n",
        "[5.6063,3.3928],\n",
        "[12.836,10.117],\n",
        "[6.3534,5.4974],\n",
        "[5.4069,0.55657],\n",
        "[6.8825,3.9115],\n",
        "[11.708,5.3854],\n",
        "[5.7737,2.4406],\n",
        "[7.8247,6.7318],\n",
        "[7.0931,1.0463],\n",
        "[5.0702,5.1337],\n",
        "[5.8014,1.844],\n",
        "[11.7,8.0043],\n",
        "[5.5416,1.0179],\n",
        "[7.5402,6.7504],\n",
        "[5.3077,1.8396],\n",
        "[7.4239,4.2885],\n",
        "[7.6031,4.9981],\n",
        "[6.3328,1.4233],\n",
        "[6.3589,-1.4211],\n",
        "[6.2742,2.4756],\n",
        "[5.6397,4.6042],\n",
        "[9.3102,3.9624],\n",
        "[9.4536,5.4141],\n",
        "[8.8254,5.1694],\n",
        "[5.1793,-0.74279],\n",
        "[21.279,17.929],\n",
        "[14.908,12.054],\n",
        "[18.959,17.054],\n",
        "[7.2182,4.8852],\n",
        "[8.2951,5.7442],\n",
        "[10.236,7.7754],\n",
        "[5.4994,1.0173],\n",
        "[20.341,20.992],\n",
        "[10.136,6.6799],\n",
        "[7.3345,4.0259],\n",
        "[6.0062,1.2784],\n",
        "[7.2259,3.3411],\n",
        "[5.0269,-2.6807],\n",
        "[6.5479,0.29678],\n",
        "[7.5386,3.8845],\n",
        "[5.0365,5.7014],\n",
        "[10.274,6.7526],\n",
        "[5.1077,2.0576],\n",
        "[5.7292,0.47953],\n",
        "[5.1884,0.20421],\n",
        "[6.3557,0.67861],\n",
        "[9.7687,7.5435],\n",
        "[6.5159,5.3436],\n",
        "[8.5172,4.2415],\n",
        "[9.1802,6.7981],\n",
        "[6.002,0.92695],\n",
        "[5.5204,0.152],\n",
        "[5.0594,2.8214],\n",
        "[5.7077,1.8451],\n",
        "[7.6366,4.2959],\n",
        "[5.8707,7.2029],\n",
        "[5.3054,1.9869],\n",
        "[8.2934,0.14454],\n",
        "[13.394,9.0551],\n",
        "[5.4369,0.61705],\n",
        "])"
      ],
      "metadata": {
        "id": "CsAXWUdjgwqG"
      },
      "execution_count": 28,
      "outputs": []
    },
    {
      "cell_type": "code",
      "source": [
        "# Plot the data food_data\n",
        "plt.scatter(food_data[:,0], food_data[:,1])\n",
        "plt.show()"
      ],
      "metadata": {
        "colab": {
          "base_uri": "https://localhost:8080/",
          "height": 430
        },
        "id": "J-peNLmUkMBB",
        "outputId": "e0545cf4-ade3-41fd-8c56-d3b115722c58"
      },
      "execution_count": 29,
      "outputs": [
        {
          "output_type": "display_data",
          "data": {
            "text/plain": [
              "<Figure size 640x480 with 1 Axes>"
            ],
            "image/png": "[encoded data removed]"
          },
          "metadata": {}
        }
      ]
    },
    {
      "cell_type": "code",
      "source": [
        "# make up some initial thetas\n",
        "theta_0 = 0.22\n",
        "theta_1 = 0.86"
      ],
      "metadata": {
        "id": "RqbPPCuGiDYx"
      },
      "execution_count": 30,
      "outputs": []
    },
    {
      "cell_type": "code",
      "source": [
        "def calculate_single_forward(thetas, train_ex):\n",
        "    '''\n",
        "        thetas: theta0, theta1, ..., thetaj\n",
        "        train_ex: (x, y)\n",
        "\n",
        "        returns: gradients based on a single training example\n",
        "    '''\n",
        "\n",
        "    # parse model parameters\n",
        "    theta_0 = thetas[0]\n",
        "    theta_1 = thetas[1]\n",
        "\n",
        "    # parse data inputs\n",
        "    x0 = 1\n",
        "    x1 = train_ex[0]\n",
        "    y = train_ex[1]\n",
        "\n",
        "    # do one forward pass with a single training example\n",
        "    # to calculate error and gradient\n",
        "    y_hat = theta_0 + theta_1 * x1\n",
        "    error = y_hat - y\n",
        "    if error < 0:\n",
        "        error = -error\n",
        "\n",
        "    # for each theta, we need the gradient for an update\n",
        "    gradients = np.array([error * x0, error * x1])\n",
        "\n",
        "    # Question: what would you do differently for GD or mini-batch GD?\n",
        "\n",
        "    return gradients"
      ],
      "metadata": {
        "id": "U_tYCsI9iISd"
      },
      "execution_count": 59,
      "outputs": []
    },
    {
      "cell_type": "code",
      "source": [
        "def gradient_descent(training_data, thetas, alpha=5e-3):\n",
        "    '''\n",
        "    training_data: training dataset\n",
        "    thetas: theta0, theta1, ..., thetaj\n",
        "    alpha: learning rate, default to 0.0005\n",
        "\n",
        "    returns:\n",
        "            - thetas: the updated thetas\n",
        "            - total_error: total error (note, not loss) from this iteration\n",
        "    '''\n",
        "\n",
        "    total_error = 0\n",
        "    overall_gradients = np.zeros(2)\n",
        "\n",
        "    # compute the summation of gradients across all training examples\n",
        "    for ex in training_data:\n",
        "        gradients = calculate_single_forward(thetas, ex)\n",
        "        # gradients[0] is the error term (gradients[0] = error * x0 = error * 1)\n",
        "        total_error += gradients[0]\n",
        "        overall_gradients = overall_gradients + gradients\n",
        "\n",
        "    # update thetas\n",
        "    theta_0, theta_1 = thetas\n",
        "    thetas[0] = theta_0 - alpha * overall_gradients[0]\n",
        "    thetas[1] = theta_1 - alpha * overall_gradients[1]\n",
        "\n",
        "    return thetas, total_error"
      ],
      "metadata": {
        "id": "EXZfh167iIWi"
      },
      "execution_count": 60,
      "outputs": []
    },
    {
      "cell_type": "code",
      "source": [
        "# set initial parameters\n",
        "thetas = [1.01, 3.01]\n",
        "old_thetas = thetas.copy()\n",
        "alpha = 5e-3\n",
        "\n",
        "# prepare training\n",
        "total_epochs = 100\n",
        "error_traj = [0] * total_epochs\n",
        "\n",
        "# perform training\n",
        "for epoch in range(total_epochs):\n",
        "    thetas, epoch_error = gradient_descent(food_data, thetas, alpha)\n",
        "    print(thetas)\n",
        "    # store a history of errors\n",
        "    error_traj[epoch] = epoch_error\n"
      ],
      "metadata": {
        "colab": {
          "base_uri": "https://localhost:8080/"
        },
        "id": "-wcbVvAkiIYO",
        "outputId": "06bac2a8-d68a-4218-9a45-90572d81efb9"
      },
      "execution_count": 61,
      "outputs": [
        {
          "output_type": "stream",
          "name": "stdout",
          "text": [
            "[np.float64(-8.559953529999998), np.float64(-88.14013183219194)]\n",
            "[np.float64(-364.3583476383451), np.float64(-3633.5534779520463)]\n",
            "[np.float64(-14923.702916398597), np.float64(-148563.19331058688)]\n",
            "[np.float64(-610103.8140275794), np.float64(-6073065.87831867)]\n",
            "[np.float64(-24940183.428455226), np.float64(-248257766.38107145)]\n",
            "[np.float64(-1019517030.4496256), np.float64(-10148401743.31873)]\n",
            "[np.float64(-41676313137.43878), np.float64(-414851302377.0475)]\n",
            "[np.float64(-1703664598723.001), np.float64(-16958493310383.232)]\n",
            "[np.float64(-69643230080428.07), np.float64(-693237537667431.1)]\n",
            "[np.float64(-2846909831700911.5), np.float64(-2.8338501235657916e+16)]\n",
            "[np.float64(-1.163773647556958e+17), np.float64(-1.1584350365468006e+18)]\n",
            "[np.float64(-4.757330519101279e+18), np.float64(-4.735507085359208e+19)]\n",
            "[np.float64(-1.944724707891686e+20), np.float64(-1.9358036185036672e+21)]\n",
            "[np.float64(-7.949740246761033e+21), np.float64(-7.913272183664451e+22)]\n",
            "[np.float64(-3.249733483331263e+23), np.float64(-3.234825891128426e+24)]\n",
            "[np.float64(-1.328441859089312e+25), np.float64(-1.3223478610423746e+26)]\n",
            "[np.float64(-5.430469243193546e+26), np.float64(-5.405557901582661e+27)]\n",
            "[np.float64(-2.219893629480133e+28), np.float64(-2.209710250094805e+29)]\n",
            "[np.float64(-9.074589147858741e+29), np.float64(-9.03296103431698e+30)]\n",
            "[np.float64(-3.7095546880649587e+31), np.float64(-3.692537745344131e+32)]\n",
            "[np.float64(-1.5164098075990285e+33), np.float64(-1.509453538988072e+34)]\n",
            "[np.float64(-6.198853765334366e+34), np.float64(-6.1704175921735155e+35)]\n",
            "[np.float64(-2.5339975916431617e+36), np.float64(-2.522373314473064e+37)]\n",
            "[np.float64(-1.0358598601506104e+38), np.float64(-1.031108031591862e+39)]\n",
            "[np.float64(-4.234438317581253e+39), np.float64(-4.215013561683469e+40)]\n",
            "[np.float64(-1.7309742905563833e+41), np.float64(-1.723033744364034e+42)]\n",
            "[np.float64(-7.075960894569522e+42), np.float64(-7.043501143639007e+43)]\n",
            "[np.float64(-2.892545709929837e+44), np.float64(-2.879276655069526e+45)]\n",
            "[np.float64(-1.18242890381922e+46), np.float64(-1.177004715036539e+47)]\n",
            "[np.float64(-4.833590382988402e+47), np.float64(-4.811417120265551e+48)]\n",
            "[np.float64(-1.9758985859576065e+49), np.float64(-1.9668344917773582e+50)]\n",
            "[np.float64(-8.077174341727076e+50), np.float64(-8.040121696685464e+51)]\n",
            "[np.float64(-3.3018266124744287e+52), np.float64(-3.286680052020864e+53)]\n",
            "[np.float64(-1.3497367417865173e+54), np.float64(-1.343545057135777e+55)]\n",
            "[np.float64(-5.517519500405306e+55), np.float64(-5.492208830744194e+56)]\n",
            "[np.float64(-2.2554784570106836e+57), np.float64(-2.245131838362764e+58)]\n",
            "[np.float64(-9.220054536582244e+58), np.float64(-9.177759125643368e+59)]\n",
            "[np.float64(-3.769018737169348e+60), np.float64(-3.751729013372987e+61)]\n",
            "[np.float64(-1.5407178108080282e+62), np.float64(-1.5336500334222863e+63)]\n",
            "[np.float64(-6.298221203123789e+63), np.float64(-6.269329198969902e+64)]\n",
            "[np.float64(-2.5746174961574864e+65), np.float64(-2.5628068821770246e+66)]\n",
            "[np.float64(-1.0524646622815608e+67), np.float64(-1.0476366620551828e+68)]\n",
            "[np.float64(-4.3023162353421834e+68), np.float64(-4.28258010119669e+69)]\n",
            "[np.float64(-1.758721755917451e+70), np.float64(-1.7506539230105514e+71)]\n",
            "[np.float64(-7.18938833302977e+71), np.float64(-7.156408253276648e+72)]\n",
            "[np.float64(-2.938913129902201e+73), np.float64(-2.925431372495056e+74)]\n",
            "[np.float64(-1.2013832032733778e+75), np.float64(-1.1958720649090775e+76)]\n",
            "[np.float64(-4.911072690179965e+76), np.float64(-4.888543990728386e+77)]\n",
            "[np.float64(-2.007572180343128e+78), np.float64(-1.9983627890081692e+79)]\n",
            "[np.float64(-8.206651201369152e+79), np.float64(-8.16900460355168e+80)]\n",
            "[np.float64(-3.3547547928972916e+81), np.float64(-3.339365433539192e+82)]\n",
            "[np.float64(-1.3713729808072905e+83), np.float64(-1.3650820436394492e+84)]\n",
            "[np.float64(-5.605965170599134e+84), np.float64(-5.5802487716712605e+85)]\n",
            "[np.float64(-2.2916337082469298e+86), np.float64(-2.2811212336159937e+87)]\n",
            "[np.float64(-9.36785173107367e+87), np.float64(-9.324878325980659e+88)]\n",
            "[np.float64(-3.829435993176789e+89), np.float64(-3.811869115632533e+90)]\n",
            "[np.float64(-1.5654154705709845e+91), np.float64(-1.5582343969281816e+92)]\n",
            "[np.float64(-6.39918149792626e+92), np.float64(-6.369826355822346e+93)]\n",
            "[np.float64(-2.6158885365088052e+94), np.float64(-2.6038885987445618e+95)]\n",
            "[np.float64(-1.0693356388868958e+96), np.float64(-1.0644302459633669e+97)]\n",
            "[np.float64(-4.371282234065466e+97), np.float64(-4.3512297302884006e+98)]\n",
            "[np.float64(-1.7869140123064258e+99), np.float64(-1.778716852282799e+100)]\n",
            "[np.float64(-7.304634009887237e+100), np.float64(-7.271125260456268e+101)]\n",
            "[np.float64(-2.986023818209971e+102), np.float64(-2.9723259486406175e+103)]\n",
            "[np.float64(-1.2206413395727275e+104), np.float64(-1.215041857827651e+105)]\n",
            "[np.float64(-4.989797036405051e+105), np.float64(-4.966907202584771e+106)]\n",
            "[np.float64(-2.0397535014857e+107), np.float64(-2.0303964838870476e+108)]\n",
            "[np.float64(-8.338203571143069e+108), np.float64(-8.299953499504752e+109)]\n",
            "[np.float64(-3.408531410446531e+110), np.float64(-3.3928953601248246e+111)]\n",
            "[np.float64(-1.3933560480831387e+112), np.float64(-1.3869642673833596e+113)]\n",
            "[np.float64(-5.6958286222027904e+113), np.float64(-5.669699990180328e+114)]\n",
            "[np.float64(-2.3283685270635735e+115), np.float64(-2.3176875377832444e+116)]\n",
            "[np.float64(-9.518018110108745e+116), np.float64(-9.474355842635881e+117)]\n",
            "[np.float64(-3.890821735965018e+118), np.float64(-3.872973261906692e+119)]\n",
            "[np.float64(-1.590509033070632e+120), np.float64(-1.5832128470352034e+121)]\n",
            "[np.float64(-6.501760183191348e+121), np.float64(-6.471934479050122e+122)]\n",
            "[np.float64(-2.6578211503848206e+123), np.float64(-2.645628853982286e+124)]\n",
            "[np.float64(-1.0864770567353608e+125), np.float64(-1.0814930305120941e+126)]\n",
            "[np.float64(-4.4413537556559043e+126), np.float64(-4.420979810851672e+127)]\n",
            "[np.float64(-1.8155581897099822e+128), np.float64(-1.8072296294598737e+129)]\n",
            "[np.float64(-7.421727071448271e+129), np.float64(-7.387681177780554e+130)]\n",
            "[np.float64(-3.033889689422016e+131), np.float64(-3.019972243419046e+132)]\n",
            "[np.float64(-1.2402081832126775e+133), np.float64(-1.2345189419451118e+134)]\n",
            "[np.float64(-5.069783331511688e+134), np.float64(-5.0465265743497296e+135)]\n",
            "[np.float64(-2.0724506882298262e+136), np.float64(-2.0629436779229534e+137)]\n",
            "[np.float64(-8.471864721413252e+137), np.float64(-8.433001502287055e+138)]\n",
            "[np.float64(-3.4631700655435406e+139), np.float64(-3.447283369809563e+140)]\n",
            "[np.float64(-1.4156915032604674e+141), np.float64(-1.409197262509993e+142)]\n",
            "[np.float64(-5.787132582209263e+142), np.float64(-5.760585109008198e+143)]\n",
            "[np.float64(-2.365692203911335e+144), np.float64(-2.354839998696897e+145)]\n",
            "[np.float64(-9.670591651643796e+145), np.float64(-9.626229479348037e+146)]\n",
            "[np.float64(-3.953191490347741e+147), np.float64(-3.935056905791773e+148)]\n",
            "[np.float64(-1.6160048446158302e+149), np.float64(-1.6085917009396146e+150)]\n",
            "[np.float64(-6.605983201669079e+150), np.float64(-6.575679392395361e+151)]\n",
            "[np.float64(-2.7004259427890684e+152), np.float64(-2.6880382042451064e+153)]\n",
            "[np.float64(-1.10389325099188e+154), np.float64(-1.0988293309794665e+155)]\n",
            "[np.float64(-4.512548521611526e+155), np.float64(-4.49184798309021e+156)]\n",
            "[np.float64(-1.8446615324082763e+157), np.float64(-1.8361994655900426e+158)]\n",
            "[np.float64(-7.540697131233622e+158), np.float64(-7.506105482923337e+159)]\n",
            "[np.float64(-3.0825228490973746e+160), np.float64(-3.0683823068572253e+161)]\n"
          ]
        }
      ]
    },
    {
      "cell_type": "code",
      "source": [
        "# Let's do an exploratory plot\n",
        "plt.plot(error_traj)\n",
        "plt.xlabel('Epoch')\n",
        "plt.ylabel('Error')\n",
        "plt.title('Training of Demo Regression model');"
      ],
      "metadata": {
        "colab": {
          "base_uri": "https://localhost:8080/",
          "height": 472
        },
        "id": "eQU1G8PRiIZ_",
        "outputId": "6ba4c9f4-dc23-4ad5-bd27-2ca9cf8451fa"
      },
      "execution_count": 62,
      "outputs": [
        {
          "output_type": "display_data",
          "data": {
            "text/plain": [
              "<Figure size 640x480 with 1 Axes>"
            ],
            "image/png": "[encoded data removed]"
          },
          "metadata": {}
        }
      ]
    },
    {
      "cell_type": "code",
      "source": [
        "lin_pts = np.linspace(0, 25, 100) # gives you 100 values between [0, 25]\n",
        "\n",
        "mdl_pts = thetas[0] + lin_pts * thetas[1]\n",
        "print(thetas[0])\n",
        "print(thetas[1])\n",
        "plt.plot(lin_pts, mdl_pts, linewidth=4, label='Final model fit')\n",
        "plt.legend()\n",
        "ax = plt.gca()\n",
        "ax.set_ylim([-10, 30])\n",
        "\n",
        "# Let's look at the original least squares\n",
        "orig_mdl_pts = old_thetas[0] + lin_pts * old_thetas[1]\n",
        "plt.plot(lin_pts, orig_mdl_pts, ':', linewidth=4, label='Original model fit')\n",
        "plt.legend()\n",
        "\n",
        "# Let's plot the original points\n",
        "plt.plot(food_data[:,0], food_data[:,1], 'ro', label='Data points') # 'ro' for red, circle\n",
        "plt.legend()\n",
        "plt.xlabel('Demo x label')\n",
        "plt.ylabel('Demo y label')\n",
        "plt.title('Comparison of pre- vs post-model training')\n"
      ],
      "metadata": {
        "colab": {
          "base_uri": "https://localhost:8080/",
          "height": 526
        },
        "id": "P9aTu4Q-iIdT",
        "outputId": "239f8be7-ca16-4e40-ba4a-43627be34b75"
      },
      "execution_count": 53,
      "outputs": [
        {
          "output_type": "stream",
          "name": "stdout",
          "text": [
            "2.1485524242032163e+158\n",
            "2.1386963103001127e+159\n"
          ]
        },
        {
          "output_type": "execute_result",
          "data": {
            "text/plain": [
              "Text(0.5, 1.0, 'Comparison of pre- vs post-model training')"
            ]
          },
          "metadata": {},
          "execution_count": 53
        },
        {
          "output_type": "display_data",
          "data": {
            "text/plain": [
              "<Figure size 640x480 with 1 Axes>"
            ],
            "image/png": "[encoded data removed]"
          },
          "metadata": {}
        }
      ]
    },
    {
      "cell_type": "code",
      "source": [],
      "metadata": {
        "id": "0MNmx2NQiIei"
      },
      "execution_count": null,
      "outputs": []
    },
    {
      "cell_type": "code",
      "source": [],
      "metadata": {
        "id": "4FzECSgoiIgj"
      },
      "execution_count": null,
      "outputs": []
    }
  ]
}